{
 "cells": [
  {
   "attachments": {},
   "cell_type": "markdown",
   "metadata": {},
   "source": [
    "# Worksheet 04\n",
    "\n",
    "Name:  Priscilla Nguyen\n",
    "\n",
    "UID: U83582329\n",
    "\n",
    "### Topics\n",
    "\n",
    "- Distance & Similarity"
   ]
  },
  {
   "cell_type": "markdown",
   "metadata": {},
   "source": [
    "### Distance & Similarity\n",
    "\n",
    "#### Part 1\n",
    "\n",
    "a) In the minkowski distance, describe what the parameters p and d are."
   ]
  },
  {
   "cell_type": "markdown",
   "metadata": {},
   "source": [
    "p represents the order or the power of the distance calculation.\n",
    "\n",
    "d is the dimensionality of the space in which the distance is being calculated."
   ]
  },
  {
   "cell_type": "markdown",
   "metadata": {},
   "source": [
    "b) In your own words describe the difference between the Euclidean distance and the Manhattan distance."
   ]
  },
  {
   "cell_type": "markdown",
   "metadata": {},
   "source": [
    "Euclidean distance calculates the straight-line distance, taking into account the geometric distance between points.\n",
    "\n",
    "Manhattan distance measures the distance along grid-like paths, considering only horizontal and vertical movements, making it suitable for situations where movement is constrained to grid or network."
   ]
  },
  {
   "attachments": {},
   "cell_type": "markdown",
   "metadata": {},
   "source": [
    "Consider A = (0, 0) and B = (1, 1). When:\n",
    "\n",
    "- p = 1, d(A, B) = 2\n",
    "- p = 2, d(A, B) = $\\sqrt{2} = 1.41$\n",
    "- p = 3, d(A, B) = $2^{1/3} = 1.26$\n",
    "- p = 4, d(A, B) = $2^{1/4} = 1.19$\n",
    "\n",
    "c) Describe what you think distance would look like when p is very large."
   ]
  },
  {
   "cell_type": "markdown",
   "metadata": {},
   "source": [
    "As p becomes very large, the Minkowski distance converges towards to a distance metric that emphasizes the most significant dimension while diminishing the impact of all other dimensions."
   ]
  },
  {
   "cell_type": "markdown",
   "metadata": {},
   "source": [
    "d) Is the minkowski distance still a distance function when p < 1? Expain why / why not."
   ]
  },
  {
   "cell_type": "markdown",
   "metadata": {},
   "source": [
    "No, the Minkowski distance is not a valid distance function when the parameter \"p\" is less than 1. In order for a function to be considered a valid distance metric, it must satisfy certain properties, such as non-negativity, identity of indescernibles, symmetry, and the triangle inequality."
   ]
  },
  {
   "cell_type": "markdown",
   "metadata": {},
   "source": [
    "e) when would you use cosine similarity over the euclidean distance?"
   ]
  },
  {
   "cell_type": "markdown",
   "metadata": {},
   "source": [
    "I would choose cosine similarity over Euclidean distance when dealing with high-dimensional, sparse, or text data, where the focus is on capturing the direction or similarity of vectors rather than absolute distances."
   ]
  },
  {
   "cell_type": "markdown",
   "metadata": {},
   "source": [
    "f) what does the jaccard distance account for that the manhattan distance doesn't?"
   ]
  },
  {
   "cell_type": "markdown",
   "metadata": {},
   "source": [
    "the Jaccard distance is specifically designed to measure dissimilarity between sets or binary data based on set membership, while the Manhattan distance measures dissimilarity between numerical vectors by considering both the presence and magnitude of differences in each dimension. The Jaccard distance is suitable for categorical or binary data analysis, whereas the Manhattan distance is suitable for quantitative data analysis in multi-dimensional space."
   ]
  },
  {
   "attachments": {},
   "cell_type": "markdown",
   "metadata": {},
   "source": [
    "#### Part 2\n",
    "\n",
    "Consider the following two sentences:"
   ]
  },
  {
   "cell_type": "code",
   "execution_count": null,
   "metadata": {},
   "outputs": [],
   "source": [
    "s1 = \"hello my name is Alice\"  \n",
    "s2 = \"hello my name is Bob\""
   ]
  },
  {
   "cell_type": "markdown",
   "metadata": {},
   "source": [
    "using the union of words from both sentences, we can represent each sentence as a vector. Each element of the vector represents the presence or absence of the word at that index.\n",
    "\n",
    "In this example, the union of words is (\"hello\", \"my\", \"name\", \"is\", \"Alice\", \"Bob\") so we can represent the above sentences as such:"
   ]
  },
  {
   "cell_type": "code",
   "execution_count": 1,
   "metadata": {},
   "outputs": [],
   "source": [
    "v1 = [1,    1, 1,   1, 1,    0]\n",
    "#     hello my name is Alice\n",
    "v2 = [1,    1, 1,   1, 0, 1]\n",
    "#     hello my name is    Bob"
   ]
  },
  {
   "attachments": {},
   "cell_type": "markdown",
   "metadata": {},
   "source": [
    "Programmatically, we can do the following:"
   ]
  },
  {
   "cell_type": "code",
   "execution_count": null,
   "metadata": {},
   "outputs": [
    {
     "name": "stdout",
     "output_type": "stream",
     "text": [
      "['hello', 'Bob', 'is', 'name', 'my', 'Alice']\n",
      "[1, 0, 1, 1, 1, 1]\n"
     ]
    }
   ],
   "source": [
    "corpus = [s1, s2]\n",
    "all_words = list(set([item for x in corpus for item in x.split()]))\n",
    "print(all_words)\n",
    "v1 = [1 if x in s1 else 0 for x in all_words]\n",
    "print(v1)"
   ]
  },
  {
   "cell_type": "markdown",
   "metadata": {},
   "source": [
    "Let's add a new sentence to our corpus:"
   ]
  },
  {
   "cell_type": "code",
   "execution_count": null,
   "metadata": {},
   "outputs": [],
   "source": [
    "s3 = \"hi my name is Claude\"\n",
    "corpus.append(s3)"
   ]
  },
  {
   "cell_type": "markdown",
   "metadata": {},
   "source": [
    "a) What is the new union of words used to represent s1, s2, and s3?"
   ]
  },
  {
   "cell_type": "code",
   "execution_count": 4,
   "metadata": {},
   "outputs": [
    {
     "data": {
      "text/plain": [
       "['hello', 'my', 'name', 'is', 'Alice', 'Bob', 'hi', 'Claude']"
      ]
     },
     "execution_count": 4,
     "metadata": {},
     "output_type": "execute_result"
    }
   ],
   "source": [
    "[\"hello\", \"my\", \"name\", \"is\", \"Alice\", \"Bob\", \"hi\", \"Claude\"]"
   ]
  },
  {
   "attachments": {},
   "cell_type": "markdown",
   "metadata": {},
   "source": [
    "b) Represent s1, s2, and s3 as vectors as above, using this new set of words."
   ]
  },
  {
   "cell_type": "code",
   "execution_count": 3,
   "metadata": {},
   "outputs": [
    {
     "name": "stdout",
     "output_type": "stream",
     "text": [
      "['Alice', 'Bob', 'hello', 'Claude', 'is', 'hi', 'name', 'my']\n",
      "[1, 0, 1, 0, 1, 0, 1, 1]\n",
      "[0, 1, 1, 0, 1, 0, 1, 1]\n",
      "[0, 0, 0, 1, 1, 1, 1, 1]\n"
     ]
    }
   ],
   "source": [
    "s1 = \"hello my name is Alice\"\n",
    "s2 = \"hello my name is Bob\"\n",
    "s3 = \"hi my name is Claude\"\n",
    "\n",
    "corpus = [s1, s2, s3]\n",
    "all_words = list(set([item for x in corpus for item in x.split()]))\n",
    "\n",
    "v1 = [1 if x in s1 else 0 for x in all_words]\n",
    "v2 = [1 if x in s2 else 0 for x in all_words]\n",
    "v3 = [1 if x in s3 else 0 for x in all_words]\n",
    "\n",
    "print(all_words)\n",
    "print(v1)\n",
    "print(v2)\n",
    "print(v3)"
   ]
  },
  {
   "cell_type": "markdown",
   "metadata": {},
   "source": [
    "c) Write a function that computes the manhattan distance between two vectors. Which pair of vectors are the most similar under that distance function?"
   ]
  },
  {
   "cell_type": "code",
   "execution_count": 5,
   "metadata": {},
   "outputs": [
    {
     "name": "stdout",
     "output_type": "stream",
     "text": [
      "Manhattan Distance between s1 and s2: 2\n",
      "Manhattan Distance between s1 and s3: 4\n",
      "Manhattan Distance between s2 and s3: 4\n"
     ]
    }
   ],
   "source": [
    "def manhattan_distance(v1, v2):\n",
    "    if len(v1) != len(v2):\n",
    "        raise ValueError(\"Vectors must have the same dimensionality\")\n",
    "    return sum(abs(x - y) for x, y in zip(v1, v2))\n",
    "\n",
    "# Calculate Manhattan distances\n",
    "distance_s1_s2 = manhattan_distance(v1, v2)\n",
    "distance_s1_s3 = manhattan_distance(v1, v3)\n",
    "distance_s2_s3 = manhattan_distance(v2, v3)\n",
    "\n",
    "print(\"Manhattan Distance between s1 and s2:\", distance_s1_s2)\n",
    "print(\"Manhattan Distance between s1 and s3:\", distance_s1_s3)\n",
    "print(\"Manhattan Distance between s2 and s3:\", distance_s2_s3)"
   ]
  },
  {
   "cell_type": "markdown",
   "metadata": {},
   "source": []
  },
  {
   "cell_type": "markdown",
   "metadata": {},
   "source": [
    "d) Create a matrix of all these vectors (row major) and add the following sentences in vector form:\n",
    "\n",
    "- \"hi Alice\"\n",
    "- \"hello Claude\"\n",
    "- \"Bob my name is Claude\"\n",
    "- \"hi Claude my name is Alice\"\n",
    "- \"hello Bob\""
   ]
  },
  {
   "cell_type": "code",
   "execution_count": 6,
   "metadata": {},
   "outputs": [
    {
     "name": "stdout",
     "output_type": "stream",
     "text": [
      "[[1 1 1 1 1 1 0 0]\n",
      " [1 1 1 1 0 1 0 0]\n",
      " [0 1 1 1 0 0 1 1]\n",
      " [1 0 0 0 0 1 0 0]\n",
      " [0 0 1 1 0 0 0 0]\n",
      " [0 1 0 1 1 0 1 1]\n",
      " [1 0 0 1 1 1 1 1]\n",
      " [0 1 1 0 0 0 0 0]]\n"
     ]
    }
   ],
   "source": [
    "# Existing vectors\n",
    "v1 = [1, 1, 1, 1, 1, 1, 0, 0]\n",
    "v2 = [1, 1, 1, 1, 0, 1, 0, 0]\n",
    "v3 = [0, 1, 1, 1, 0, 0, 1, 1]\n",
    "\n",
    "# New sentences\n",
    "new_sentences = [\n",
    "    \"hi Alice\",\n",
    "    \"hello Claude\",\n",
    "    \"Bob my name is Claude\",\n",
    "    \"hi Claude my name is Alice\",\n",
    "    \"hello Bob\"\n",
    "]\n",
    "\n",
    "# Create vectors for new sentences\n",
    "new_vectors = []\n",
    "for sentence in new_sentences:\n",
    "    new_vector = [1 if word in sentence else 0 for word in all_words]\n",
    "    new_vectors.append(new_vector)\n",
    "\n",
    "# Combine all vectors into a matrix\n",
    "import numpy as np\n",
    "\n",
    "matrix = np.array([v1, v2, v3] + new_vectors)\n",
    "\n",
    "# Print the matrix\n",
    "print(matrix)"
   ]
  },
  {
   "cell_type": "markdown",
   "metadata": {},
   "source": [
    "e) How many rows and columns does this matrix have?"
   ]
  },
  {
   "cell_type": "markdown",
   "metadata": {},
   "source": [
    "There are 8 rows and 8 columns"
   ]
  },
  {
   "cell_type": "code",
   "execution_count": null,
   "metadata": {},
   "outputs": [],
   "source": []
  },
  {
   "attachments": {},
   "cell_type": "markdown",
   "metadata": {},
   "source": [
    "f) When using the Manhattan distance, which two sentences are the most similar?"
   ]
  },
  {
   "cell_type": "code",
   "execution_count": 7,
   "metadata": {},
   "outputs": [
    {
     "name": "stdout",
     "output_type": "stream",
     "text": [
      "The most similar sentences (by Manhattan distance) are sentences (0, 1)\n"
     ]
    }
   ],
   "source": [
    "import numpy as np\n",
    "\n",
    "# Define the matrix of vectors (including the new sentences)\n",
    "matrix = np.array([\n",
    "[1, 1, 1, 1, 1, 1, 0, 0],\n",
    " [1, 1, 1, 1, 0, 1, 0, 0],\n",
    " [0, 1, 1, 1, 0, 0, 1, 1],\n",
    " [1, 0, 0, 0, 0, 1, 0, 0],\n",
    " [0, 0, 1, 1, 0, 0, 0, 0],\n",
    " [0, 1, 0, 1, 1, 0, 1, 1],\n",
    " [1, 0, 0, 1, 1, 1, 1, 1],\n",
    " [0, 1, 1, 0, 0, 0, 0, 0],\n",
    "])\n",
    "\n",
    "# Calculate Manhattan distances between all pairs of sentences\n",
    "manhattan_distances = np.zeros((len(matrix), len(matrix)))\n",
    "\n",
    "for i in range(len(matrix)):\n",
    "    for j in range(len(matrix)):\n",
    "        manhattan_distances[i][j] = np.sum(np.abs(matrix[i] - matrix[j]))\n",
    "\n",
    "# Set diagonal elements to a high value to exclude self-comparisons\n",
    "np.fill_diagonal(manhattan_distances, float('inf'))\n",
    "\n",
    "# Find the indices of the minimum distance\n",
    "row, col = np.unravel_index(np.argmin(manhattan_distances), manhattan_distances.shape)\n",
    "\n",
    "# Determine the most similar sentences\n",
    "most_similar_sentences = (row, col)\n",
    "print(\"The most similar sentences (by Manhattan distance) are sentences\", most_similar_sentences)"
   ]
  },
  {
   "cell_type": "markdown",
   "metadata": {},
   "source": []
  }
 ],
 "metadata": {
  "kernelspec": {
   "display_name": "Python 3",
   "language": "python",
   "name": "python3"
  },
  "language_info": {
   "codemirror_mode": {
    "name": "ipython",
    "version": 3
   },
   "file_extension": ".py",
   "mimetype": "text/x-python",
   "name": "python",
   "nbconvert_exporter": "python",
   "pygments_lexer": "ipython3",
   "version": "3.9.7"
  },
  "orig_nbformat": 4,
  "vscode": {
   "interpreter": {
    "hash": "76ca05dc3ea24b2e3b98cdb7774adfbb40773424bf5109b477fd793f623715af"
   }
  }
 },
 "nbformat": 4,
 "nbformat_minor": 2
}
