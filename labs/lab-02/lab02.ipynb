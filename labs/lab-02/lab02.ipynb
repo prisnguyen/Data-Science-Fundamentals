{
 "cells": [
  {
   "attachments": {},
   "cell_type": "markdown",
   "metadata": {},
   "source": [
    "## Lab 02 - Pandas and Data Visualization\n",
    "This notebook will introduce you to the basics of Pandas and Data Visualization. You will learn how to load data into a Pandas DataFrame, how to perform basic data analysis, and how to visualize data. The first part of this notebook will be an interactive tutorial, and the second part will be practice exercises for you to do! **Note that the practice problems will be checked when submitted!**"
   ]
  },
  {
   "cell_type": "markdown",
   "metadata": {},
   "source": [
    "#### Pandas\n",
    "Pandas is a popular open-source Python library that provides data structures and data analysis tools for working with structured data. Pandas is a versatile library that simplifies data manipulation, analysis, and exploration in Python. Some of its uses:\n",
    "* Tabular Data Handling\n",
    "* Data Cleaning and Transformation\n",
    "* Data Exploration\n",
    "* Data Import/Export\n",
    "* Data Visualization\n",
    "\n",
    "#### Matplotlib\n",
    "Matplotlib is a widely used for creating static, animated, and interactive visualizations. Whether you are conducting data analysis, scientific research, or data communication, Matplotlib helps you present your findings effectively and intuitively."
   ]
  },
  {
   "attachments": {},
   "cell_type": "markdown",
   "metadata": {},
   "source": [
    "### Pre-requisites"
   ]
  },
  {
   "cell_type": "code",
   "execution_count": 10,
   "metadata": {},
   "outputs": [],
   "source": [
    "# In case you don't have pandas, uncomment\n",
    "# the following lines and run the cell\n",
    "\n",
    "# %pip install pandas"
   ]
  },
  {
   "attachments": {},
   "cell_type": "markdown",
   "metadata": {},
   "source": [
    "### Overview\n",
    "In this notebook, you will be learning how to use the Pandas library by working with the `cookies.csv` file. \n",
    "\n",
    "#### `cookies.csv` file :\n",
    "\n",
    "The `cookies.csv` file contains information about cookies that were made in Rico's Bisquito's factory. \n",
    "\n",
    "The columns are the following:\n",
    "\n",
    "`cookie`: the name of a cookie\n",
    "`ingredients`: a list of the cookie's ingredients\n",
    "`calories`: the number of calories the created cookie has\n",
    "`radius`: the radius of the created cookie, in cm\n",
    "`cost_to_make`: the cost it took to make the created cookie, in dollars"
   ]
  },
  {
   "attachments": {},
   "cell_type": "markdown",
   "metadata": {},
   "source": [
    "### Reading the CSV file\n",
    "\n",
    "First, we need to import the Pandas library. We will be using the `pd` alias for the Pandas library."
   ]
  },
  {
   "cell_type": "code",
   "execution_count": null,
   "metadata": {},
   "outputs": [],
   "source": [
    "#TODO: import pandas and matplotlib in this cell\n",
    "import pandas as pd\n",
    "import matplotlib.pyplot as plt"
   ]
  },
  {
   "attachments": {},
   "cell_type": "markdown",
   "metadata": {},
   "source": [
    "We will now look at the `cookies.csv` file. We will use the `pd.read_csv()` function to read in the CSV file. We will store the data in a variable called `cookies`."
   ]
  },
  {
   "cell_type": "code",
   "execution_count": null,
   "metadata": {},
   "outputs": [],
   "source": [
    "#TODO: read the cookies.csv file into a pandas dataframe\n",
    "dataframe = pd.read_cvs('cookies.csv')"
   ]
  },
  {
   "attachments": {},
   "cell_type": "markdown",
   "metadata": {},
   "source": [
    "#### Dataframe\n",
    "Dataframes are a data structure that Pandas uses to store data. Dataframes are similar to tables in a database. Dataframes have rows and columns. Each row represents a single data point, and each column represents a feature of the data point."
   ]
  },
  {
   "attachments": {},
   "cell_type": "markdown",
   "metadata": {},
   "source": [
    "We will then make sure we imported the data correctly by printing out the first 10 rows of the data, using the `head()` function."
   ]
  },
  {
   "cell_type": "code",
   "execution_count": 2,
   "metadata": {},
   "outputs": [
    {
     "name": "stdout",
     "output_type": "stream",
     "text": [
      "            cookie                                        ingredients  \\\n",
      "0     laddoo lemon             [\"flour\",\"lemon juice\",\"sugar\",\"ghee\"]   \n",
      "1  red velvet rauw  [\"flour\",\"cocoa powder\",\"butter\",\"red food col...   \n",
      "2         nevadito  [\"flour\",\"chocolate chips\",\"milk\",\"vanilla ext...   \n",
      "3  red velvet rauw  [\"flour\",\"cocoa powder\",\"butter\",\"red food col...   \n",
      "4  bad berry bunny           [\"flour\",\"blueberries\",\"sugar\",\"butter\"]   \n",
      "5     orange ozuna   [\"flour\",\"orange juice\",\"sugar\",\"vegetable oil\"]   \n",
      "6      minty miami          [\"flour\",\"mint extract\",\"sugar\",\"butter\"]   \n",
      "7        chocolate       [\"flour\",\"chocolate chips\",\"sugar\",\"butter\"]   \n",
      "8     laddoo lemon             [\"flour\",\"lemon juice\",\"sugar\",\"ghee\"]   \n",
      "9      minty miami          [\"flour\",\"mint extract\",\"sugar\",\"butter\"]   \n",
      "\n",
      "   calories  radius  cost_to_make  \n",
      "0       170   3.102          0.67  \n",
      "1       198   3.780          1.07  \n",
      "2       224   4.069          1.04  \n",
      "3       198   3.780          1.07  \n",
      "4       191   4.148          1.39  \n",
      "5       162   3.241          1.15  \n",
      "6       204   3.964          0.84  \n",
      "7       243   3.684          1.17  \n",
      "8       178   3.989           NaN  \n",
      "9       184   3.743          0.74  \n"
     ]
    }
   ],
   "source": [
    "#TODO: print the head of the dataframe\n",
    "print(df.head(10))"
   ]
  },
  {
   "attachments": {},
   "cell_type": "markdown",
   "metadata": {},
   "source": [
    "### Checking data types\n",
    "You can check the data types of each column using the `dtypes` attribute of the DataFrame."
   ]
  },
  {
   "cell_type": "code",
   "execution_count": 3,
   "metadata": {},
   "outputs": [
    {
     "name": "stdout",
     "output_type": "stream",
     "text": [
      "cookie           object\n",
      "ingredients      object\n",
      "calories          int64\n",
      "radius          float64\n",
      "cost_to_make    float64\n",
      "dtype: object\n"
     ]
    }
   ],
   "source": [
    "#TODO: check the data types of the columns\n",
    "data_types = df.dtypes\n",
    "print(data_types)"
   ]
  },
  {
   "cell_type": "markdown",
   "metadata": {},
   "source": [
    "Now, lets use use `info()` function to get more information about the Dataframe"
   ]
  },
  {
   "cell_type": "code",
   "execution_count": 4,
   "metadata": {},
   "outputs": [
    {
     "name": "stdout",
     "output_type": "stream",
     "text": [
      "<class 'pandas.core.frame.DataFrame'>\n",
      "RangeIndex: 129 entries, 0 to 128\n",
      "Data columns (total 5 columns):\n",
      " #   Column        Non-Null Count  Dtype  \n",
      "---  ------        --------------  -----  \n",
      " 0   cookie        129 non-null    object \n",
      " 1   ingredients   129 non-null    object \n",
      " 2   calories      129 non-null    int64  \n",
      " 3   radius        129 non-null    float64\n",
      " 4   cost_to_make  114 non-null    float64\n",
      "dtypes: float64(2), int64(1), object(2)\n",
      "memory usage: 5.2+ KB\n"
     ]
    }
   ],
   "source": [
    "# TODO: use info() to get information about datatypes and null values\n",
    "df.info()"
   ]
  },
  {
   "attachments": {},
   "cell_type": "markdown",
   "metadata": {},
   "source": [
    "### Cleaning the data\n",
    "Now that we have the data, we need to clean it. For example, some `cost_to_make` fields of some created cookies are missing. To resolve this, we can do many things: we can replace the missing data with the mean of the column, or we can get rid of the row entirely if the `cost_to_make` field is not set. "
   ]
  },
  {
   "cell_type": "code",
   "execution_count": 5,
   "metadata": {},
   "outputs": [
    {
     "name": "stdout",
     "output_type": "stream",
     "text": [
      "            cookie                                        ingredients  \\\n",
      "0     laddoo lemon             [\"flour\",\"lemon juice\",\"sugar\",\"ghee\"]   \n",
      "1  red velvet rauw  [\"flour\",\"cocoa powder\",\"butter\",\"red food col...   \n",
      "2         nevadito  [\"flour\",\"chocolate chips\",\"milk\",\"vanilla ext...   \n",
      "3  red velvet rauw  [\"flour\",\"cocoa powder\",\"butter\",\"red food col...   \n",
      "4  bad berry bunny           [\"flour\",\"blueberries\",\"sugar\",\"butter\"]   \n",
      "5     orange ozuna   [\"flour\",\"orange juice\",\"sugar\",\"vegetable oil\"]   \n",
      "6      minty miami          [\"flour\",\"mint extract\",\"sugar\",\"butter\"]   \n",
      "7        chocolate       [\"flour\",\"chocolate chips\",\"sugar\",\"butter\"]   \n",
      "8     laddoo lemon             [\"flour\",\"lemon juice\",\"sugar\",\"ghee\"]   \n",
      "9      minty miami          [\"flour\",\"mint extract\",\"sugar\",\"butter\"]   \n",
      "\n",
      "   calories  radius  cost_to_make  \n",
      "0       170   3.102      0.670000  \n",
      "1       198   3.780      1.070000  \n",
      "2       224   4.069      1.040000  \n",
      "3       198   3.780      1.070000  \n",
      "4       191   4.148      1.390000  \n",
      "5       162   3.241      1.150000  \n",
      "6       204   3.964      0.840000  \n",
      "7       243   3.684      1.170000  \n",
      "8       178   3.989      1.176579  \n",
      "9       184   3.743      0.740000  \n"
     ]
    }
   ],
   "source": [
    "#TODO: clean the dataframe and \n",
    "# print the head again to make sure \n",
    "# the changes took effect\n",
    "mean_cost_to_make = df['cost_to_make'].mean()\n",
    "df.loc[df['cost_to_make'].isnull(), 'cost_to_make'] = mean_cost_to_make\n",
    "print(df.head(10))"
   ]
  },
  {
   "attachments": {},
   "cell_type": "markdown",
   "metadata": {},
   "source": [
    "To also make sure we removed null values, we can check the number of null values in each column using the `isnull()` function."
   ]
  },
  {
   "cell_type": "code",
   "execution_count": null,
   "metadata": {},
   "outputs": [],
   "source": [
    "#TODO: use the isnull method to make sure your data is clean"
   ]
  },
  {
   "cell_type": "markdown",
   "metadata": {},
   "source": [
    "Next, lets check for duplicate rows using the `duplicated()` function. Then, remove those rows using `drop_duplicates()` function."
   ]
  },
  {
   "cell_type": "code",
   "execution_count": 6,
   "metadata": {},
   "outputs": [
    {
     "name": "stdout",
     "output_type": "stream",
     "text": [
      "            cookie                                        ingredients  \\\n",
      "0     laddoo lemon             [\"flour\",\"lemon juice\",\"sugar\",\"ghee\"]   \n",
      "1  red velvet rauw  [\"flour\",\"cocoa powder\",\"butter\",\"red food col...   \n",
      "2         nevadito  [\"flour\",\"chocolate chips\",\"milk\",\"vanilla ext...   \n",
      "3  bad berry bunny           [\"flour\",\"blueberries\",\"sugar\",\"butter\"]   \n",
      "4     orange ozuna   [\"flour\",\"orange juice\",\"sugar\",\"vegetable oil\"]   \n",
      "5      minty miami          [\"flour\",\"mint extract\",\"sugar\",\"butter\"]   \n",
      "6        chocolate       [\"flour\",\"chocolate chips\",\"sugar\",\"butter\"]   \n",
      "7     laddoo lemon             [\"flour\",\"lemon juice\",\"sugar\",\"ghee\"]   \n",
      "8      minty miami          [\"flour\",\"mint extract\",\"sugar\",\"butter\"]   \n",
      "9         nevadito  [\"flour\",\"chocolate chips\",\"milk\",\"vanilla ext...   \n",
      "\n",
      "   calories  radius  cost_to_make  \n",
      "0       170   3.102      0.670000  \n",
      "1       198   3.780      1.070000  \n",
      "2       224   4.069      1.040000  \n",
      "3       191   4.148      1.390000  \n",
      "4       162   3.241      1.150000  \n",
      "5       204   3.964      0.840000  \n",
      "6       243   3.684      1.170000  \n",
      "7       178   3.989      1.176579  \n",
      "8       184   3.743      0.740000  \n",
      "9       216   3.848      1.280000  \n"
     ]
    }
   ],
   "source": [
    "# TODO: check for duplicate rows\n",
    "# then delete those rows form df\n",
    "\n",
    "duplicates = df.duplicated()\n",
    "df = df.drop_duplicates().reset_index(drop=True)\n",
    "print(df.head(10))"
   ]
  },
  {
   "attachments": {},
   "cell_type": "markdown",
   "metadata": {},
   "source": [
    "### Parsing the data\n",
    "Now that we have the data, we could parse it to get the information we want. For example, we can check what types of cookies were made by using the `unique()` function on the `cookie` column."
   ]
  },
  {
   "cell_type": "code",
   "execution_count": 7,
   "metadata": {},
   "outputs": [
    {
     "name": "stdout",
     "output_type": "stream",
     "text": [
      "['laddoo lemon' 'red velvet rauw' 'nevadito' 'bad berry bunny'\n",
      " 'orange ozuna' 'minty miami' 'chocolate']\n"
     ]
    }
   ],
   "source": [
    "#TODO: see what cookies are in the dataset\n",
    "\n",
    "cookie_types = df['cookie'].unique()\n",
    "print(cookie_types)"
   ]
  },
  {
   "attachments": {},
   "cell_type": "markdown",
   "metadata": {},
   "source": [
    "We can also check the number of cookies made by using the `value_counts()` function on the `cookie` column."
   ]
  },
  {
   "cell_type": "code",
   "execution_count": 8,
   "metadata": {},
   "outputs": [
    {
     "name": "stdout",
     "output_type": "stream",
     "text": [
      "red velvet rauw    18\n",
      "laddoo lemon       17\n",
      "nevadito           17\n",
      "bad berry bunny    17\n",
      "orange ozuna       17\n",
      "minty miami        17\n",
      "chocolate          15\n",
      "Name: cookie, dtype: int64\n"
     ]
    }
   ],
   "source": [
    "#TODO: use value_counts() to see how many \n",
    "# cookies of each type there are\n",
    "\n",
    "cookie_counts = df['cookie'].value_counts()\n",
    "print(cookie_counts)"
   ]
  },
  {
   "attachments": {},
   "cell_type": "markdown",
   "metadata": {},
   "source": [
    "Or maybe we don't like how long the names of the cookies are, so we can shorten them by using the `replace()` function on the `cookie` column.\n",
    "\n",
    "For example, let's try changing `\"bad berry bunny\"` to `\"bbb\"`."
   ]
  },
  {
   "cell_type": "code",
   "execution_count": 9,
   "metadata": {},
   "outputs": [
    {
     "name": "stdout",
     "output_type": "stream",
     "text": [
      "            cookie                                        ingredients  \\\n",
      "0     laddoo lemon             [\"flour\",\"lemon juice\",\"sugar\",\"ghee\"]   \n",
      "1  red velvet rauw  [\"flour\",\"cocoa powder\",\"butter\",\"red food col...   \n",
      "2         nevadito  [\"flour\",\"chocolate chips\",\"milk\",\"vanilla ext...   \n",
      "3              bbb           [\"flour\",\"blueberries\",\"sugar\",\"butter\"]   \n",
      "4     orange ozuna   [\"flour\",\"orange juice\",\"sugar\",\"vegetable oil\"]   \n",
      "5      minty miami          [\"flour\",\"mint extract\",\"sugar\",\"butter\"]   \n",
      "6        chocolate       [\"flour\",\"chocolate chips\",\"sugar\",\"butter\"]   \n",
      "7     laddoo lemon             [\"flour\",\"lemon juice\",\"sugar\",\"ghee\"]   \n",
      "8      minty miami          [\"flour\",\"mint extract\",\"sugar\",\"butter\"]   \n",
      "9         nevadito  [\"flour\",\"chocolate chips\",\"milk\",\"vanilla ext...   \n",
      "\n",
      "   calories  radius  cost_to_make  \n",
      "0       170   3.102      0.670000  \n",
      "1       198   3.780      1.070000  \n",
      "2       224   4.069      1.040000  \n",
      "3       191   4.148      1.390000  \n",
      "4       162   3.241      1.150000  \n",
      "5       204   3.964      0.840000  \n",
      "6       243   3.684      1.170000  \n",
      "7       178   3.989      1.176579  \n",
      "8       184   3.743      0.740000  \n",
      "9       216   3.848      1.280000  \n"
     ]
    }
   ],
   "source": [
    "#TODO: change bad berry bunny data elements to \"bbb\"\n",
    "\n",
    "df['cookie'] = df['cookie'].replace('bad berry bunny', 'bbb')\n",
    "print(df.head(10))"
   ]
  },
  {
   "attachments": {},
   "cell_type": "markdown",
   "metadata": {},
   "source": [
    "We may even like the original names better, but we may want to get rid of the spaces. For example, we can change `\"orange ozuna\"` to `\"orange_ozuna\"`. Here, we will use the `str.replace()` function."
   ]
  },
  {
   "cell_type": "code",
   "execution_count": 10,
   "metadata": {},
   "outputs": [
    {
     "name": "stdout",
     "output_type": "stream",
     "text": [
      "            cookie                                        ingredients  \\\n",
      "0     laddoo_lemon             [\"flour\",\"lemon juice\",\"sugar\",\"ghee\"]   \n",
      "1  red_velvet_rauw  [\"flour\",\"cocoa powder\",\"butter\",\"red food col...   \n",
      "2         nevadito  [\"flour\",\"chocolate chips\",\"milk\",\"vanilla ext...   \n",
      "3              bbb           [\"flour\",\"blueberries\",\"sugar\",\"butter\"]   \n",
      "4     orange_ozuna   [\"flour\",\"orange juice\",\"sugar\",\"vegetable oil\"]   \n",
      "5      minty_miami          [\"flour\",\"mint extract\",\"sugar\",\"butter\"]   \n",
      "6        chocolate       [\"flour\",\"chocolate chips\",\"sugar\",\"butter\"]   \n",
      "7     laddoo_lemon             [\"flour\",\"lemon juice\",\"sugar\",\"ghee\"]   \n",
      "8      minty_miami          [\"flour\",\"mint extract\",\"sugar\",\"butter\"]   \n",
      "9         nevadito  [\"flour\",\"chocolate chips\",\"milk\",\"vanilla ext...   \n",
      "\n",
      "   calories  radius  cost_to_make  \n",
      "0       170   3.102      0.670000  \n",
      "1       198   3.780      1.070000  \n",
      "2       224   4.069      1.040000  \n",
      "3       191   4.148      1.390000  \n",
      "4       162   3.241      1.150000  \n",
      "5       204   3.964      0.840000  \n",
      "6       243   3.684      1.170000  \n",
      "7       178   3.989      1.176579  \n",
      "8       184   3.743      0.740000  \n",
      "9       216   3.848      1.280000  \n"
     ]
    }
   ],
   "source": [
    "#TODO: adjust orange ozuna as described\n",
    "\n",
    "df['cookie'] = df['cookie'].str.replace(' ', '_')\n",
    "print(df.head(10))"
   ]
  },
  {
   "attachments": {},
   "cell_type": "markdown",
   "metadata": {},
   "source": [
    "We may even just want to keep the first word of the cookie name. For example, we can change `\"orange_ozuna\"` to `\"orange\"`."
   ]
  },
  {
   "cell_type": "code",
   "execution_count": 11,
   "metadata": {},
   "outputs": [
    {
     "name": "stdout",
     "output_type": "stream",
     "text": [
      "      cookie                                        ingredients  calories  \\\n",
      "0     laddoo             [\"flour\",\"lemon juice\",\"sugar\",\"ghee\"]       170   \n",
      "1        red  [\"flour\",\"cocoa powder\",\"butter\",\"red food col...       198   \n",
      "2   nevadito  [\"flour\",\"chocolate chips\",\"milk\",\"vanilla ext...       224   \n",
      "3        bbb           [\"flour\",\"blueberries\",\"sugar\",\"butter\"]       191   \n",
      "4     orange   [\"flour\",\"orange juice\",\"sugar\",\"vegetable oil\"]       162   \n",
      "5      minty          [\"flour\",\"mint extract\",\"sugar\",\"butter\"]       204   \n",
      "6  chocolate       [\"flour\",\"chocolate chips\",\"sugar\",\"butter\"]       243   \n",
      "7     laddoo             [\"flour\",\"lemon juice\",\"sugar\",\"ghee\"]       178   \n",
      "8      minty          [\"flour\",\"mint extract\",\"sugar\",\"butter\"]       184   \n",
      "9   nevadito  [\"flour\",\"chocolate chips\",\"milk\",\"vanilla ext...       216   \n",
      "\n",
      "   radius  cost_to_make  \n",
      "0   3.102      0.670000  \n",
      "1   3.780      1.070000  \n",
      "2   4.069      1.040000  \n",
      "3   4.148      1.390000  \n",
      "4   3.241      1.150000  \n",
      "5   3.964      0.840000  \n",
      "6   3.684      1.170000  \n",
      "7   3.989      1.176579  \n",
      "8   3.743      0.740000  \n",
      "9   3.848      1.280000  \n"
     ]
    }
   ],
   "source": [
    "#TODO: adjust all cookies so only the first word\n",
    "# is used as the cookie name\n",
    "\n",
    "df['cookie'] = df['cookie'].str.split('_').str[0]\n",
    "print(df.head(10))"
   ]
  },
  {
   "attachments": {},
   "cell_type": "markdown",
   "metadata": {},
   "source": [
    "Another thing that may come to mind is that maybe getting flour could cost more money due to inflation, so we have to adjust our `cost_to_make` values. We can do this by using the `apply()` function on the `cost_to_make` column."
   ]
  },
  {
   "cell_type": "code",
   "execution_count": 12,
   "metadata": {},
   "outputs": [
    {
     "name": "stdout",
     "output_type": "stream",
     "text": [
      "      cookie                                        ingredients  calories  \\\n",
      "0     laddoo             [\"flour\",\"lemon juice\",\"sugar\",\"ghee\"]       170   \n",
      "1        red  [\"flour\",\"cocoa powder\",\"butter\",\"red food col...       198   \n",
      "2   nevadito  [\"flour\",\"chocolate chips\",\"milk\",\"vanilla ext...       224   \n",
      "3        bbb           [\"flour\",\"blueberries\",\"sugar\",\"butter\"]       191   \n",
      "4     orange   [\"flour\",\"orange juice\",\"sugar\",\"vegetable oil\"]       162   \n",
      "5      minty          [\"flour\",\"mint extract\",\"sugar\",\"butter\"]       204   \n",
      "6  chocolate       [\"flour\",\"chocolate chips\",\"sugar\",\"butter\"]       243   \n",
      "7     laddoo             [\"flour\",\"lemon juice\",\"sugar\",\"ghee\"]       178   \n",
      "8      minty          [\"flour\",\"mint extract\",\"sugar\",\"butter\"]       184   \n",
      "9   nevadito  [\"flour\",\"chocolate chips\",\"milk\",\"vanilla ext...       216   \n",
      "\n",
      "   radius  cost_to_make  \n",
      "0   3.102      1.170000  \n",
      "1   3.780      1.570000  \n",
      "2   4.069      1.540000  \n",
      "3   4.148      1.890000  \n",
      "4   3.241      1.650000  \n",
      "5   3.964      1.340000  \n",
      "6   3.684      1.670000  \n",
      "7   3.989      1.676579  \n",
      "8   3.743      1.240000  \n",
      "9   3.848      1.780000  \n"
     ]
    }
   ],
   "source": [
    "#Don't edit this method\n",
    "def adjust_cost(cost):\n",
    "    return cost + 0.5\n",
    "\n",
    "#TODO: use apply() to adjust the cost_to_make column.\n",
    "df['cost_to_make'] = df['cost_to_make'].apply(adjust_cost)\n",
    "print(df.head(10))"
   ]
  },
  {
   "attachments": {},
   "cell_type": "markdown",
   "metadata": {},
   "source": [
    "And we can do a lot more things! We will see these concepts be used in the next homework assignment, along with a couple new ones to show you how powerful Pandas is."
   ]
  },
  {
   "attachments": {},
   "cell_type": "markdown",
   "metadata": {},
   "source": [
    "### More complicated operations: Grouping, Filtering, Aggregating"
   ]
  },
  {
   "cell_type": "markdown",
   "metadata": {},
   "source": [
    "Before trying out these complicated operations, lets first sort the sort the df by the radius of the cookies using the `sort_values()` function."
   ]
  },
  {
   "cell_type": "code",
   "execution_count": 13,
   "metadata": {},
   "outputs": [
    {
     "name": "stdout",
     "output_type": "stream",
     "text": [
      "        cookie                                        ingredients  calories  \\\n",
      "103        red  [\"flour\",\"cocoa powder\",\"butter\",\"red food col...       198   \n",
      "24         red  [\"flour\",\"cocoa powder\",\"butter\",\"red food col...       204   \n",
      "102   nevadito  [\"flour\",\"chocolate chips\",\"milk\",\"vanilla ext...       211   \n",
      "53      orange   [\"flour\",\"orange juice\",\"sugar\",\"vegetable oil\"]       186   \n",
      "42      laddoo             [\"flour\",\"lemon juice\",\"sugar\",\"ghee\"]       195   \n",
      "94      laddoo             [\"flour\",\"lemon juice\",\"sugar\",\"ghee\"]       178   \n",
      "90         red  [\"flour\",\"cocoa powder\",\"butter\",\"red food col...       191   \n",
      "80   chocolate       [\"flour\",\"chocolate chips\",\"sugar\",\"butter\"]       199   \n",
      "73   chocolate       [\"flour\",\"chocolate chips\",\"sugar\",\"butter\"]       197   \n",
      "65         red  [\"flour\",\"cocoa powder\",\"butter\",\"red food col...       196   \n",
      "\n",
      "     radius  cost_to_make  \n",
      "103   4.930      1.550000  \n",
      "24    4.667      1.900000  \n",
      "102   4.619      1.676579  \n",
      "53    4.573      1.560000  \n",
      "42    4.562      1.120000  \n",
      "94    4.519      1.910000  \n",
      "90    4.475      1.740000  \n",
      "80    4.474      1.640000  \n",
      "73    4.461      2.170000  \n",
      "65    4.425      1.370000  \n"
     ]
    }
   ],
   "source": [
    "# TODO: sort the df using sort_values(by='Column', ascending=False)\n",
    "\n",
    "df = df.sort_values(by='radius', ascending=False)\n",
    "print(df.head(10))"
   ]
  },
  {
   "attachments": {},
   "cell_type": "markdown",
   "metadata": {},
   "source": [
    "We may also want to group data by certain attributes. This can be done by using `groupby()`. This method takes in a column name, and groups the data by the values in that column. For example, we can group the data by the `cookie` column."
   ]
  },
  {
   "cell_type": "code",
   "execution_count": 14,
   "metadata": {},
   "outputs": [
    {
     "name": "stdout",
     "output_type": "stream",
     "text": [
      "Cookie Type: bbb\n",
      "    cookie                               ingredients  calories  radius  \\\n",
      "117    bbb  [\"flour\",\"blueberries\",\"sugar\",\"butter\"]       199   4.281   \n",
      "31     bbb  [\"flour\",\"blueberries\",\"sugar\",\"butter\"]       182   4.166   \n",
      "3      bbb  [\"flour\",\"blueberries\",\"sugar\",\"butter\"]       191   4.148   \n",
      "84     bbb  [\"flour\",\"blueberries\",\"sugar\",\"butter\"]       186   4.089   \n",
      "104    bbb  [\"flour\",\"blueberries\",\"sugar\",\"butter\"]       171   4.045   \n",
      "38     bbb  [\"flour\",\"blueberries\",\"sugar\",\"butter\"]       213   4.007   \n",
      "77     bbb  [\"flour\",\"blueberries\",\"sugar\",\"butter\"]       185   3.992   \n",
      "91     bbb  [\"flour\",\"blueberries\",\"sugar\",\"butter\"]       208   3.976   \n",
      "45     bbb  [\"flour\",\"blueberries\",\"sugar\",\"butter\"]       184   3.974   \n",
      "111    bbb  [\"flour\",\"blueberries\",\"sugar\",\"butter\"]       177   3.950   \n",
      "\n",
      "     cost_to_make  \n",
      "117          1.86  \n",
      "31           1.61  \n",
      "3            1.89  \n",
      "84           1.23  \n",
      "104          1.43  \n",
      "38           1.84  \n",
      "77           1.59  \n",
      "91           2.12  \n",
      "45           1.27  \n",
      "111          1.17  \n",
      "\n",
      "\n",
      "Cookie Type: chocolate\n",
      "        cookie                                   ingredients  calories  \\\n",
      "80   chocolate  [\"flour\",\"chocolate chips\",\"sugar\",\"butter\"]       199   \n",
      "73   chocolate  [\"flour\",\"chocolate chips\",\"sugar\",\"butter\"]       197   \n",
      "55   chocolate  [\"flour\",\"chocolate chips\",\"sugar\",\"butter\"]       206   \n",
      "48   chocolate  [\"flour\",\"chocolate chips\",\"sugar\",\"butter\"]       229   \n",
      "41   chocolate  [\"flour\",\"chocolate chips\",\"sugar\",\"butter\"]       240   \n",
      "87   chocolate  [\"flour\",\"chocolate chips\",\"sugar\",\"butter\"]       243   \n",
      "100  chocolate  [\"flour\",\"chocolate chips\",\"sugar\",\"butter\"]       222   \n",
      "113  chocolate  [\"flour\",\"chocolate chips\",\"sugar\",\"butter\"]       227   \n",
      "27   chocolate  [\"flour\",\"chocolate chips\",\"sugar\",\"butter\"]       205   \n",
      "107  chocolate  [\"flour\",\"chocolate chips\",\"sugar\",\"butter\"]       226   \n",
      "\n",
      "     radius  cost_to_make  \n",
      "80    4.474      1.640000  \n",
      "73    4.461      2.170000  \n",
      "55    4.328      1.840000  \n",
      "48    4.217      1.690000  \n",
      "41    4.212      1.470000  \n",
      "87    4.207      1.640000  \n",
      "100   4.186      1.360000  \n",
      "113   4.085      1.920000  \n",
      "27    3.937      1.676579  \n",
      "107   3.894      1.450000  \n",
      "\n",
      "\n",
      "Cookie Type: laddoo\n",
      "     cookie                             ingredients  calories  radius  \\\n",
      "42   laddoo  [\"flour\",\"lemon juice\",\"sugar\",\"ghee\"]       195   4.562   \n",
      "94   laddoo  [\"flour\",\"lemon juice\",\"sugar\",\"ghee\"]       178   4.519   \n",
      "81   laddoo  [\"flour\",\"lemon juice\",\"sugar\",\"ghee\"]       167   4.401   \n",
      "49   laddoo  [\"flour\",\"lemon juice\",\"sugar\",\"ghee\"]       165   4.123   \n",
      "35   laddoo  [\"flour\",\"lemon juice\",\"sugar\",\"ghee\"]       176   4.110   \n",
      "108  laddoo  [\"flour\",\"lemon juice\",\"sugar\",\"ghee\"]       180   4.077   \n",
      "7    laddoo  [\"flour\",\"lemon juice\",\"sugar\",\"ghee\"]       178   3.989   \n",
      "114  laddoo  [\"flour\",\"lemon juice\",\"sugar\",\"ghee\"]       170   3.916   \n",
      "22   laddoo  [\"flour\",\"lemon juice\",\"sugar\",\"ghee\"]       176   3.809   \n",
      "101  laddoo  [\"flour\",\"lemon juice\",\"sugar\",\"ghee\"]       161   3.656   \n",
      "\n",
      "     cost_to_make  \n",
      "42       1.120000  \n",
      "94       1.910000  \n",
      "81       1.740000  \n",
      "49       2.500000  \n",
      "35       2.770000  \n",
      "108      1.330000  \n",
      "7        1.676579  \n",
      "114      2.500000  \n",
      "22       1.676579  \n",
      "101      1.860000  \n",
      "\n",
      "\n",
      "Cookie Type: minty\n",
      "    cookie                                ingredients  calories  radius  \\\n",
      "40   minty  [\"flour\",\"mint extract\",\"sugar\",\"butter\"]       174   4.388   \n",
      "93   minty  [\"flour\",\"mint extract\",\"sugar\",\"butter\"]       185   4.307   \n",
      "47   minty  [\"flour\",\"mint extract\",\"sugar\",\"butter\"]       205   4.218   \n",
      "54   minty  [\"flour\",\"mint extract\",\"sugar\",\"butter\"]       209   3.992   \n",
      "5    minty  [\"flour\",\"mint extract\",\"sugar\",\"butter\"]       204   3.964   \n",
      "72   minty  [\"flour\",\"mint extract\",\"sugar\",\"butter\"]       194   3.964   \n",
      "106  minty  [\"flour\",\"mint extract\",\"sugar\",\"butter\"]       179   3.950   \n",
      "33   minty  [\"flour\",\"mint extract\",\"sugar\",\"butter\"]       183   3.946   \n",
      "99   minty  [\"flour\",\"mint extract\",\"sugar\",\"butter\"]       181   3.794   \n",
      "13   minty  [\"flour\",\"mint extract\",\"sugar\",\"butter\"]       175   3.766   \n",
      "\n",
      "     cost_to_make  \n",
      "40       1.140000  \n",
      "93       1.676579  \n",
      "47       1.250000  \n",
      "54       1.470000  \n",
      "5        1.340000  \n",
      "72       1.460000  \n",
      "106      2.150000  \n",
      "33       1.550000  \n",
      "99       1.680000  \n",
      "13       1.270000  \n",
      "\n",
      "\n",
      "Cookie Type: nevadito\n",
      "       cookie                                        ingredients  calories  \\\n",
      "102  nevadito  [\"flour\",\"chocolate chips\",\"milk\",\"vanilla ext...       211   \n",
      "23   nevadito  [\"flour\",\"chocolate chips\",\"milk\",\"vanilla ext...       219   \n",
      "109  nevadito  [\"flour\",\"chocolate chips\",\"milk\",\"vanilla ext...       216   \n",
      "57   nevadito  [\"flour\",\"chocolate chips\",\"milk\",\"vanilla ext...       211   \n",
      "29   nevadito  [\"flour\",\"chocolate chips\",\"milk\",\"vanilla ext...       211   \n",
      "64   nevadito  [\"flour\",\"chocolate chips\",\"milk\",\"vanilla ext...       214   \n",
      "2    nevadito  [\"flour\",\"chocolate chips\",\"milk\",\"vanilla ext...       224   \n",
      "16   nevadito  [\"flour\",\"chocolate chips\",\"milk\",\"vanilla ext...       236   \n",
      "75   nevadito  [\"flour\",\"chocolate chips\",\"milk\",\"vanilla ext...       253   \n",
      "115  nevadito  [\"flour\",\"chocolate chips\",\"milk\",\"vanilla ext...       211   \n",
      "\n",
      "     radius  cost_to_make  \n",
      "102   4.619      1.676579  \n",
      "23    4.346      1.680000  \n",
      "109   4.227      1.676579  \n",
      "57    4.205      1.690000  \n",
      "29    4.152      2.220000  \n",
      "64    4.141      1.870000  \n",
      "2     4.069      1.540000  \n",
      "16    4.043      1.790000  \n",
      "75    4.043      1.620000  \n",
      "115   3.915      2.110000  \n",
      "\n",
      "\n",
      "Cookie Type: orange\n",
      "     cookie                                       ingredients  calories  \\\n",
      "53   orange  [\"flour\",\"orange juice\",\"sugar\",\"vegetable oil\"]       186   \n",
      "67   orange  [\"flour\",\"orange juice\",\"sugar\",\"vegetable oil\"]       161   \n",
      "60   orange  [\"flour\",\"orange juice\",\"sugar\",\"vegetable oil\"]       158   \n",
      "112  orange  [\"flour\",\"orange juice\",\"sugar\",\"vegetable oil\"]       153   \n",
      "19   orange  [\"flour\",\"orange juice\",\"sugar\",\"vegetable oil\"]       156   \n",
      "105  orange  [\"flour\",\"orange juice\",\"sugar\",\"vegetable oil\"]       171   \n",
      "39   orange  [\"flour\",\"orange juice\",\"sugar\",\"vegetable oil\"]       183   \n",
      "32   orange  [\"flour\",\"orange juice\",\"sugar\",\"vegetable oil\"]       162   \n",
      "78   orange  [\"flour\",\"orange juice\",\"sugar\",\"vegetable oil\"]       158   \n",
      "46   orange  [\"flour\",\"orange juice\",\"sugar\",\"vegetable oil\"]       159   \n",
      "\n",
      "     radius  cost_to_make  \n",
      "53    4.573      1.560000  \n",
      "67    4.147      2.130000  \n",
      "60    4.003      1.500000  \n",
      "112   3.794      1.100000  \n",
      "19    3.765      2.130000  \n",
      "105   3.731      1.676579  \n",
      "39    3.627      1.910000  \n",
      "32    3.498      1.680000  \n",
      "78    3.467      1.940000  \n",
      "46    3.462      1.510000  \n",
      "\n",
      "\n",
      "Cookie Type: red\n",
      "    cookie                                        ingredients  calories  \\\n",
      "103    red  [\"flour\",\"cocoa powder\",\"butter\",\"red food col...       198   \n",
      "24     red  [\"flour\",\"cocoa powder\",\"butter\",\"red food col...       204   \n",
      "90     red  [\"flour\",\"cocoa powder\",\"butter\",\"red food col...       191   \n",
      "65     red  [\"flour\",\"cocoa powder\",\"butter\",\"red food col...       196   \n",
      "69     red  [\"flour\",\"cocoa powder\",\"butter\",\"red food col...       206   \n",
      "110    red  [\"flour\",\"cocoa powder\",\"butter\",\"red food col...       206   \n",
      "17     red  [\"flour\",\"cocoa powder\",\"butter\",\"red food col...       202   \n",
      "37     red  [\"flour\",\"cocoa powder\",\"butter\",\"red food col...       203   \n",
      "51     red  [\"flour\",\"cocoa powder\",\"butter\",\"red food col...       203   \n",
      "76     red  [\"flour\",\"cocoa powder\",\"butter\",\"red food col...       198   \n",
      "\n",
      "     radius  cost_to_make  \n",
      "103   4.930          1.55  \n",
      "24    4.667          1.90  \n",
      "90    4.475          1.74  \n",
      "65    4.425          1.37  \n",
      "69    4.319          1.74  \n",
      "110   4.297          1.23  \n",
      "17    4.289          1.73  \n",
      "37    4.272          2.44  \n",
      "51    4.112          1.41  \n",
      "76    3.960          1.29  \n",
      "\n",
      "\n"
     ]
    }
   ],
   "source": [
    "#TODO: group by cookie type\n",
    "\n",
    "grouped = df.groupby('cookie')\n",
    "for cookie, group_data in grouped:\n",
    "    print(f\"Cookie Type: {cookie}\")\n",
    "    print(group_data.head(10))\n",
    "    print(\"\\n\")"
   ]
  },
  {
   "attachments": {},
   "cell_type": "markdown",
   "metadata": {},
   "source": [
    "We can also group by multiple columns. For example, we can group the data by the `cookie` and `ingredients` columns."
   ]
  },
  {
   "cell_type": "code",
   "execution_count": 15,
   "metadata": {},
   "outputs": [
    {
     "name": "stdout",
     "output_type": "stream",
     "text": [
      "Cookie Type: bbb\n",
      "Ingredients: [\"flour\",\"blueberries\",\"sugar\",\"butter\"]\n",
      "    cookie                               ingredients  calories  radius  \\\n",
      "117    bbb  [\"flour\",\"blueberries\",\"sugar\",\"butter\"]       199   4.281   \n",
      "31     bbb  [\"flour\",\"blueberries\",\"sugar\",\"butter\"]       182   4.166   \n",
      "3      bbb  [\"flour\",\"blueberries\",\"sugar\",\"butter\"]       191   4.148   \n",
      "84     bbb  [\"flour\",\"blueberries\",\"sugar\",\"butter\"]       186   4.089   \n",
      "104    bbb  [\"flour\",\"blueberries\",\"sugar\",\"butter\"]       171   4.045   \n",
      "38     bbb  [\"flour\",\"blueberries\",\"sugar\",\"butter\"]       213   4.007   \n",
      "77     bbb  [\"flour\",\"blueberries\",\"sugar\",\"butter\"]       185   3.992   \n",
      "91     bbb  [\"flour\",\"blueberries\",\"sugar\",\"butter\"]       208   3.976   \n",
      "45     bbb  [\"flour\",\"blueberries\",\"sugar\",\"butter\"]       184   3.974   \n",
      "111    bbb  [\"flour\",\"blueberries\",\"sugar\",\"butter\"]       177   3.950   \n",
      "\n",
      "     cost_to_make  \n",
      "117          1.86  \n",
      "31           1.61  \n",
      "3            1.89  \n",
      "84           1.23  \n",
      "104          1.43  \n",
      "38           1.84  \n",
      "77           1.59  \n",
      "91           2.12  \n",
      "45           1.27  \n",
      "111          1.17  \n",
      "\n",
      "\n",
      "Cookie Type: chocolate\n",
      "Ingredients: [\"flour\",\"chocolate chips\",\"sugar\",\"butter\"]\n",
      "        cookie                                   ingredients  calories  \\\n",
      "80   chocolate  [\"flour\",\"chocolate chips\",\"sugar\",\"butter\"]       199   \n",
      "73   chocolate  [\"flour\",\"chocolate chips\",\"sugar\",\"butter\"]       197   \n",
      "55   chocolate  [\"flour\",\"chocolate chips\",\"sugar\",\"butter\"]       206   \n",
      "48   chocolate  [\"flour\",\"chocolate chips\",\"sugar\",\"butter\"]       229   \n",
      "41   chocolate  [\"flour\",\"chocolate chips\",\"sugar\",\"butter\"]       240   \n",
      "87   chocolate  [\"flour\",\"chocolate chips\",\"sugar\",\"butter\"]       243   \n",
      "100  chocolate  [\"flour\",\"chocolate chips\",\"sugar\",\"butter\"]       222   \n",
      "113  chocolate  [\"flour\",\"chocolate chips\",\"sugar\",\"butter\"]       227   \n",
      "27   chocolate  [\"flour\",\"chocolate chips\",\"sugar\",\"butter\"]       205   \n",
      "107  chocolate  [\"flour\",\"chocolate chips\",\"sugar\",\"butter\"]       226   \n",
      "\n",
      "     radius  cost_to_make  \n",
      "80    4.474      1.640000  \n",
      "73    4.461      2.170000  \n",
      "55    4.328      1.840000  \n",
      "48    4.217      1.690000  \n",
      "41    4.212      1.470000  \n",
      "87    4.207      1.640000  \n",
      "100   4.186      1.360000  \n",
      "113   4.085      1.920000  \n",
      "27    3.937      1.676579  \n",
      "107   3.894      1.450000  \n",
      "\n",
      "\n",
      "Cookie Type: laddoo\n",
      "Ingredients: [\"flour\",\"lemon juice\",\"sugar\",\"ghee\"]\n",
      "     cookie                             ingredients  calories  radius  \\\n",
      "42   laddoo  [\"flour\",\"lemon juice\",\"sugar\",\"ghee\"]       195   4.562   \n",
      "94   laddoo  [\"flour\",\"lemon juice\",\"sugar\",\"ghee\"]       178   4.519   \n",
      "81   laddoo  [\"flour\",\"lemon juice\",\"sugar\",\"ghee\"]       167   4.401   \n",
      "49   laddoo  [\"flour\",\"lemon juice\",\"sugar\",\"ghee\"]       165   4.123   \n",
      "35   laddoo  [\"flour\",\"lemon juice\",\"sugar\",\"ghee\"]       176   4.110   \n",
      "108  laddoo  [\"flour\",\"lemon juice\",\"sugar\",\"ghee\"]       180   4.077   \n",
      "7    laddoo  [\"flour\",\"lemon juice\",\"sugar\",\"ghee\"]       178   3.989   \n",
      "114  laddoo  [\"flour\",\"lemon juice\",\"sugar\",\"ghee\"]       170   3.916   \n",
      "22   laddoo  [\"flour\",\"lemon juice\",\"sugar\",\"ghee\"]       176   3.809   \n",
      "101  laddoo  [\"flour\",\"lemon juice\",\"sugar\",\"ghee\"]       161   3.656   \n",
      "\n",
      "     cost_to_make  \n",
      "42       1.120000  \n",
      "94       1.910000  \n",
      "81       1.740000  \n",
      "49       2.500000  \n",
      "35       2.770000  \n",
      "108      1.330000  \n",
      "7        1.676579  \n",
      "114      2.500000  \n",
      "22       1.676579  \n",
      "101      1.860000  \n",
      "\n",
      "\n",
      "Cookie Type: minty\n",
      "Ingredients: [\"flour\",\"mint extract\",\"sugar\",\"butter\"]\n",
      "    cookie                                ingredients  calories  radius  \\\n",
      "40   minty  [\"flour\",\"mint extract\",\"sugar\",\"butter\"]       174   4.388   \n",
      "93   minty  [\"flour\",\"mint extract\",\"sugar\",\"butter\"]       185   4.307   \n",
      "47   minty  [\"flour\",\"mint extract\",\"sugar\",\"butter\"]       205   4.218   \n",
      "54   minty  [\"flour\",\"mint extract\",\"sugar\",\"butter\"]       209   3.992   \n",
      "5    minty  [\"flour\",\"mint extract\",\"sugar\",\"butter\"]       204   3.964   \n",
      "72   minty  [\"flour\",\"mint extract\",\"sugar\",\"butter\"]       194   3.964   \n",
      "106  minty  [\"flour\",\"mint extract\",\"sugar\",\"butter\"]       179   3.950   \n",
      "33   minty  [\"flour\",\"mint extract\",\"sugar\",\"butter\"]       183   3.946   \n",
      "99   minty  [\"flour\",\"mint extract\",\"sugar\",\"butter\"]       181   3.794   \n",
      "13   minty  [\"flour\",\"mint extract\",\"sugar\",\"butter\"]       175   3.766   \n",
      "\n",
      "     cost_to_make  \n",
      "40       1.140000  \n",
      "93       1.676579  \n",
      "47       1.250000  \n",
      "54       1.470000  \n",
      "5        1.340000  \n",
      "72       1.460000  \n",
      "106      2.150000  \n",
      "33       1.550000  \n",
      "99       1.680000  \n",
      "13       1.270000  \n",
      "\n",
      "\n",
      "Cookie Type: nevadito\n",
      "Ingredients: [\"flour\",\"chocolate chips\",\"milk\",\"vanilla extract\"]\n",
      "       cookie                                        ingredients  calories  \\\n",
      "102  nevadito  [\"flour\",\"chocolate chips\",\"milk\",\"vanilla ext...       211   \n",
      "23   nevadito  [\"flour\",\"chocolate chips\",\"milk\",\"vanilla ext...       219   \n",
      "109  nevadito  [\"flour\",\"chocolate chips\",\"milk\",\"vanilla ext...       216   \n",
      "57   nevadito  [\"flour\",\"chocolate chips\",\"milk\",\"vanilla ext...       211   \n",
      "29   nevadito  [\"flour\",\"chocolate chips\",\"milk\",\"vanilla ext...       211   \n",
      "64   nevadito  [\"flour\",\"chocolate chips\",\"milk\",\"vanilla ext...       214   \n",
      "2    nevadito  [\"flour\",\"chocolate chips\",\"milk\",\"vanilla ext...       224   \n",
      "16   nevadito  [\"flour\",\"chocolate chips\",\"milk\",\"vanilla ext...       236   \n",
      "75   nevadito  [\"flour\",\"chocolate chips\",\"milk\",\"vanilla ext...       253   \n",
      "115  nevadito  [\"flour\",\"chocolate chips\",\"milk\",\"vanilla ext...       211   \n",
      "\n",
      "     radius  cost_to_make  \n",
      "102   4.619      1.676579  \n",
      "23    4.346      1.680000  \n",
      "109   4.227      1.676579  \n",
      "57    4.205      1.690000  \n",
      "29    4.152      2.220000  \n",
      "64    4.141      1.870000  \n",
      "2     4.069      1.540000  \n",
      "16    4.043      1.790000  \n",
      "75    4.043      1.620000  \n",
      "115   3.915      2.110000  \n",
      "\n",
      "\n",
      "Cookie Type: orange\n",
      "Ingredients: [\"flour\",\"orange juice\",\"sugar\",\"vegetable oil\"]\n",
      "     cookie                                       ingredients  calories  \\\n",
      "53   orange  [\"flour\",\"orange juice\",\"sugar\",\"vegetable oil\"]       186   \n",
      "67   orange  [\"flour\",\"orange juice\",\"sugar\",\"vegetable oil\"]       161   \n",
      "60   orange  [\"flour\",\"orange juice\",\"sugar\",\"vegetable oil\"]       158   \n",
      "112  orange  [\"flour\",\"orange juice\",\"sugar\",\"vegetable oil\"]       153   \n",
      "19   orange  [\"flour\",\"orange juice\",\"sugar\",\"vegetable oil\"]       156   \n",
      "105  orange  [\"flour\",\"orange juice\",\"sugar\",\"vegetable oil\"]       171   \n",
      "39   orange  [\"flour\",\"orange juice\",\"sugar\",\"vegetable oil\"]       183   \n",
      "32   orange  [\"flour\",\"orange juice\",\"sugar\",\"vegetable oil\"]       162   \n",
      "78   orange  [\"flour\",\"orange juice\",\"sugar\",\"vegetable oil\"]       158   \n",
      "46   orange  [\"flour\",\"orange juice\",\"sugar\",\"vegetable oil\"]       159   \n",
      "\n",
      "     radius  cost_to_make  \n",
      "53    4.573      1.560000  \n",
      "67    4.147      2.130000  \n",
      "60    4.003      1.500000  \n",
      "112   3.794      1.100000  \n",
      "19    3.765      2.130000  \n",
      "105   3.731      1.676579  \n",
      "39    3.627      1.910000  \n",
      "32    3.498      1.680000  \n",
      "78    3.467      1.940000  \n",
      "46    3.462      1.510000  \n",
      "\n",
      "\n",
      "Cookie Type: red\n",
      "Ingredients: [\"flour\",\"cocoa powder\",\"butter\",\"red food coloring\"]\n",
      "    cookie                                        ingredients  calories  \\\n",
      "103    red  [\"flour\",\"cocoa powder\",\"butter\",\"red food col...       198   \n",
      "24     red  [\"flour\",\"cocoa powder\",\"butter\",\"red food col...       204   \n",
      "90     red  [\"flour\",\"cocoa powder\",\"butter\",\"red food col...       191   \n",
      "65     red  [\"flour\",\"cocoa powder\",\"butter\",\"red food col...       196   \n",
      "69     red  [\"flour\",\"cocoa powder\",\"butter\",\"red food col...       206   \n",
      "110    red  [\"flour\",\"cocoa powder\",\"butter\",\"red food col...       206   \n",
      "17     red  [\"flour\",\"cocoa powder\",\"butter\",\"red food col...       202   \n",
      "37     red  [\"flour\",\"cocoa powder\",\"butter\",\"red food col...       203   \n",
      "51     red  [\"flour\",\"cocoa powder\",\"butter\",\"red food col...       203   \n",
      "76     red  [\"flour\",\"cocoa powder\",\"butter\",\"red food col...       198   \n",
      "\n",
      "     radius  cost_to_make  \n",
      "103   4.930          1.55  \n",
      "24    4.667          1.90  \n",
      "90    4.475          1.74  \n",
      "65    4.425          1.37  \n",
      "69    4.319          1.74  \n",
      "110   4.297          1.23  \n",
      "17    4.289          1.73  \n",
      "37    4.272          2.44  \n",
      "51    4.112          1.41  \n",
      "76    3.960          1.29  \n",
      "\n",
      "\n"
     ]
    }
   ],
   "source": [
    "#TODO: group by cookie type and ingredients\n",
    "\n",
    "grouped = df.groupby(['cookie', 'ingredients'])\n",
    "for (cookie, ingredients), group_data in grouped:\n",
    "    print(f\"Cookie Type: {cookie}\")\n",
    "    print(f\"Ingredients: {ingredients}\")\n",
    "    print(group_data.head(10))\n",
    "    print(\"\\n\")"
   ]
  },
  {
   "attachments": {},
   "cell_type": "markdown",
   "metadata": {},
   "source": [
    "We may also want to filter the data. For example, we can filter the data to only show the cookies that have a radius greater than 4.3 cm. We can do this by indexing the DataFrame with a boolean expression."
   ]
  },
  {
   "cell_type": "code",
   "execution_count": 16,
   "metadata": {},
   "outputs": [
    {
     "name": "stdout",
     "output_type": "stream",
     "text": [
      "<bound method NDFrame.head of         cookie                                        ingredients  calories  \\\n",
      "103        red  [\"flour\",\"cocoa powder\",\"butter\",\"red food col...       198   \n",
      "24         red  [\"flour\",\"cocoa powder\",\"butter\",\"red food col...       204   \n",
      "102   nevadito  [\"flour\",\"chocolate chips\",\"milk\",\"vanilla ext...       211   \n",
      "53      orange   [\"flour\",\"orange juice\",\"sugar\",\"vegetable oil\"]       186   \n",
      "42      laddoo             [\"flour\",\"lemon juice\",\"sugar\",\"ghee\"]       195   \n",
      "94      laddoo             [\"flour\",\"lemon juice\",\"sugar\",\"ghee\"]       178   \n",
      "90         red  [\"flour\",\"cocoa powder\",\"butter\",\"red food col...       191   \n",
      "80   chocolate       [\"flour\",\"chocolate chips\",\"sugar\",\"butter\"]       199   \n",
      "73   chocolate       [\"flour\",\"chocolate chips\",\"sugar\",\"butter\"]       197   \n",
      "65         red  [\"flour\",\"cocoa powder\",\"butter\",\"red food col...       196   \n",
      "81      laddoo             [\"flour\",\"lemon juice\",\"sugar\",\"ghee\"]       167   \n",
      "40       minty          [\"flour\",\"mint extract\",\"sugar\",\"butter\"]       174   \n",
      "23    nevadito  [\"flour\",\"chocolate chips\",\"milk\",\"vanilla ext...       219   \n",
      "55   chocolate       [\"flour\",\"chocolate chips\",\"sugar\",\"butter\"]       206   \n",
      "69         red  [\"flour\",\"cocoa powder\",\"butter\",\"red food col...       206   \n",
      "93       minty          [\"flour\",\"mint extract\",\"sugar\",\"butter\"]       185   \n",
      "\n",
      "     radius  cost_to_make  \n",
      "103   4.930      1.550000  \n",
      "24    4.667      1.900000  \n",
      "102   4.619      1.676579  \n",
      "53    4.573      1.560000  \n",
      "42    4.562      1.120000  \n",
      "94    4.519      1.910000  \n",
      "90    4.475      1.740000  \n",
      "80    4.474      1.640000  \n",
      "73    4.461      2.170000  \n",
      "65    4.425      1.370000  \n",
      "81    4.401      1.740000  \n",
      "40    4.388      1.140000  \n",
      "23    4.346      1.680000  \n",
      "55    4.328      1.840000  \n",
      "69    4.319      1.740000  \n",
      "93    4.307      1.676579  >\n"
     ]
    }
   ],
   "source": [
    "#TODO: filter using the boolean expression\n",
    "filtered_df = df[df['radius'] > 4.3]\n",
    "print(filtered_df.head)"
   ]
  },
  {
   "attachments": {},
   "cell_type": "markdown",
   "metadata": {},
   "source": [
    "We may even want to use `groupby()` and filter idea together! For example, we can filter the data to only show the cookies that have a radius greater than 4.3 cm, and group the data by the `cookie` column."
   ]
  },
  {
   "cell_type": "code",
   "execution_count": 17,
   "metadata": {},
   "outputs": [
    {
     "name": "stdout",
     "output_type": "stream",
     "text": [
      "Cookie Type: chocolate\n",
      "       cookie                                   ingredients  calories  radius  \\\n",
      "80  chocolate  [\"flour\",\"chocolate chips\",\"sugar\",\"butter\"]       199   4.474   \n",
      "73  chocolate  [\"flour\",\"chocolate chips\",\"sugar\",\"butter\"]       197   4.461   \n",
      "55  chocolate  [\"flour\",\"chocolate chips\",\"sugar\",\"butter\"]       206   4.328   \n",
      "\n",
      "    cost_to_make  \n",
      "80          1.64  \n",
      "73          2.17  \n",
      "55          1.84  \n",
      "\n",
      "\n",
      "Cookie Type: laddoo\n",
      "    cookie                             ingredients  calories  radius  \\\n",
      "42  laddoo  [\"flour\",\"lemon juice\",\"sugar\",\"ghee\"]       195   4.562   \n",
      "94  laddoo  [\"flour\",\"lemon juice\",\"sugar\",\"ghee\"]       178   4.519   \n",
      "81  laddoo  [\"flour\",\"lemon juice\",\"sugar\",\"ghee\"]       167   4.401   \n",
      "\n",
      "    cost_to_make  \n",
      "42          1.12  \n",
      "94          1.91  \n",
      "81          1.74  \n",
      "\n",
      "\n",
      "Cookie Type: minty\n",
      "   cookie                                ingredients  calories  radius  \\\n",
      "40  minty  [\"flour\",\"mint extract\",\"sugar\",\"butter\"]       174   4.388   \n",
      "93  minty  [\"flour\",\"mint extract\",\"sugar\",\"butter\"]       185   4.307   \n",
      "\n",
      "    cost_to_make  \n",
      "40      1.140000  \n",
      "93      1.676579  \n",
      "\n",
      "\n",
      "Cookie Type: nevadito\n",
      "       cookie                                        ingredients  calories  \\\n",
      "102  nevadito  [\"flour\",\"chocolate chips\",\"milk\",\"vanilla ext...       211   \n",
      "23   nevadito  [\"flour\",\"chocolate chips\",\"milk\",\"vanilla ext...       219   \n",
      "\n",
      "     radius  cost_to_make  \n",
      "102   4.619      1.676579  \n",
      "23    4.346      1.680000  \n",
      "\n",
      "\n",
      "Cookie Type: orange\n",
      "    cookie                                       ingredients  calories  \\\n",
      "53  orange  [\"flour\",\"orange juice\",\"sugar\",\"vegetable oil\"]       186   \n",
      "\n",
      "    radius  cost_to_make  \n",
      "53   4.573          1.56  \n",
      "\n",
      "\n",
      "Cookie Type: red\n",
      "    cookie                                        ingredients  calories  \\\n",
      "103    red  [\"flour\",\"cocoa powder\",\"butter\",\"red food col...       198   \n",
      "24     red  [\"flour\",\"cocoa powder\",\"butter\",\"red food col...       204   \n",
      "90     red  [\"flour\",\"cocoa powder\",\"butter\",\"red food col...       191   \n",
      "65     red  [\"flour\",\"cocoa powder\",\"butter\",\"red food col...       196   \n",
      "69     red  [\"flour\",\"cocoa powder\",\"butter\",\"red food col...       206   \n",
      "\n",
      "     radius  cost_to_make  \n",
      "103   4.930          1.55  \n",
      "24    4.667          1.90  \n",
      "90    4.475          1.74  \n",
      "65    4.425          1.37  \n",
      "69    4.319          1.74  \n",
      "\n",
      "\n"
     ]
    }
   ],
   "source": [
    "#TODO: filter the data using the boolean expression\n",
    "# then group by cookie column\n",
    "\n",
    "filtered_df = df[df['radius'] > 4.3]\n",
    "grouped_df = filtered_df.groupby('cookie')\n",
    "for cookie, group_data in grouped_df:\n",
    "    print(f\"Cookie Type: {cookie}\")\n",
    "    print(group_data.head(10))\n",
    "    print(\"\\n\")"
   ]
  },
  {
   "attachments": {},
   "cell_type": "markdown",
   "metadata": {},
   "source": [
    "We may also want to aggregate the data. For example, we can aggregate the data by looking at the ratio of calories to radius. We can do this by using indexing and the `apply()` function."
   ]
  },
  {
   "cell_type": "code",
   "execution_count": 18,
   "metadata": {},
   "outputs": [
    {
     "name": "stdout",
     "output_type": "stream",
     "text": [
      "        cookie                                        ingredients  calories  \\\n",
      "103        red  [\"flour\",\"cocoa powder\",\"butter\",\"red food col...       198   \n",
      "24         red  [\"flour\",\"cocoa powder\",\"butter\",\"red food col...       204   \n",
      "102   nevadito  [\"flour\",\"chocolate chips\",\"milk\",\"vanilla ext...       211   \n",
      "53      orange   [\"flour\",\"orange juice\",\"sugar\",\"vegetable oil\"]       186   \n",
      "42      laddoo             [\"flour\",\"lemon juice\",\"sugar\",\"ghee\"]       195   \n",
      "94      laddoo             [\"flour\",\"lemon juice\",\"sugar\",\"ghee\"]       178   \n",
      "90         red  [\"flour\",\"cocoa powder\",\"butter\",\"red food col...       191   \n",
      "80   chocolate       [\"flour\",\"chocolate chips\",\"sugar\",\"butter\"]       199   \n",
      "73   chocolate       [\"flour\",\"chocolate chips\",\"sugar\",\"butter\"]       197   \n",
      "65         red  [\"flour\",\"cocoa powder\",\"butter\",\"red food col...       196   \n",
      "\n",
      "     radius  cost_to_make  calories_per_radius  \n",
      "103   4.930      1.550000            40.162272  \n",
      "24    4.667      1.900000            43.711163  \n",
      "102   4.619      1.676579            45.680883  \n",
      "53    4.573      1.560000            40.673518  \n",
      "42    4.562      1.120000            42.744410  \n",
      "94    4.519      1.910000            39.389245  \n",
      "90    4.475      1.740000            42.681564  \n",
      "80    4.474      1.640000            44.479213  \n",
      "73    4.461      2.170000            44.160502  \n",
      "65    4.425      1.370000            44.293785  \n"
     ]
    }
   ],
   "source": [
    "#TODO: add a column to the dataframe that is the\n",
    "# calories per radius\n",
    "\n",
    "df['calories_per_radius'] = df.apply(lambda row: row['calories'] / row['radius'], axis=1)\n",
    "print(df.head(10))"
   ]
  },
  {
   "attachments": {},
   "cell_type": "markdown",
   "metadata": {},
   "source": [
    "Or we can just get rid of this column if we find it useless. We can do this by using the `drop()` function or indexing."
   ]
  },
  {
   "cell_type": "code",
   "execution_count": 19,
   "metadata": {},
   "outputs": [
    {
     "name": "stdout",
     "output_type": "stream",
     "text": [
      "        cookie                                        ingredients  calories  \\\n",
      "103        red  [\"flour\",\"cocoa powder\",\"butter\",\"red food col...       198   \n",
      "24         red  [\"flour\",\"cocoa powder\",\"butter\",\"red food col...       204   \n",
      "102   nevadito  [\"flour\",\"chocolate chips\",\"milk\",\"vanilla ext...       211   \n",
      "53      orange   [\"flour\",\"orange juice\",\"sugar\",\"vegetable oil\"]       186   \n",
      "42      laddoo             [\"flour\",\"lemon juice\",\"sugar\",\"ghee\"]       195   \n",
      "94      laddoo             [\"flour\",\"lemon juice\",\"sugar\",\"ghee\"]       178   \n",
      "90         red  [\"flour\",\"cocoa powder\",\"butter\",\"red food col...       191   \n",
      "80   chocolate       [\"flour\",\"chocolate chips\",\"sugar\",\"butter\"]       199   \n",
      "73   chocolate       [\"flour\",\"chocolate chips\",\"sugar\",\"butter\"]       197   \n",
      "65         red  [\"flour\",\"cocoa powder\",\"butter\",\"red food col...       196   \n",
      "\n",
      "     radius  cost_to_make  \n",
      "103   4.930      1.550000  \n",
      "24    4.667      1.900000  \n",
      "102   4.619      1.676579  \n",
      "53    4.573      1.560000  \n",
      "42    4.562      1.120000  \n",
      "94    4.519      1.910000  \n",
      "90    4.475      1.740000  \n",
      "80    4.474      1.640000  \n",
      "73    4.461      2.170000  \n",
      "65    4.425      1.370000  \n"
     ]
    }
   ],
   "source": [
    "#TODO: drop the created column\n",
    "\n",
    "df = df.drop('calories_per_radius', axis=1)\n",
    "print(df.head(10))"
   ]
  },
  {
   "attachments": {},
   "cell_type": "markdown",
   "metadata": {},
   "source": [
    "### Visualizing the data"
   ]
  },
  {
   "attachments": {},
   "cell_type": "markdown",
   "metadata": {},
   "source": [
    "We can also visualize the data. For example, we can visualize the data by plotting the radius of the cookies against the cost to make the cookies. We can do this by using the `plot()` function."
   ]
  },
  {
   "cell_type": "code",
   "execution_count": 20,
   "metadata": {},
   "outputs": [
    {
     "data": {
      "image/png": "[encoded data removed]",
      "text/plain": [
       "<Figure size 432x288 with 1 Axes>"
      ]
     },
     "metadata": {
      "needs_background": "light"
     },
     "output_type": "display_data"
    }
   ],
   "source": [
    "#TODO: plot the radius (x) versus cost to make (y)\n",
    "\n",
    "plt.scatter(df['radius'], df['cost_to_make'])\n",
    "\n",
    "plt.xlabel('Cookie Radius (cm)')\n",
    "plt.ylabel('Cost to Make (USD)')\n",
    "\n",
    "plt.show()"
   ]
  },
  {
   "attachments": {},
   "cell_type": "markdown",
   "metadata": {},
   "source": [
    "We may even want to get more specific and visualize the shape of a distribution of the `laddoo lemon`'s radius by making a boxplot. We can also do this by using the `plot()` function."
   ]
  },
  {
   "cell_type": "code",
   "execution_count": 21,
   "metadata": {},
   "outputs": [
    {
     "data": {
      "image/png": "[encoded data removed]",
      "text/plain": [
       "<Figure size 432x288 with 1 Axes>"
      ]
     },
     "metadata": {
      "needs_background": "light"
     },
     "output_type": "display_data"
    }
   ],
   "source": [
    "#TODO: add the described boxplot\n",
    "# remember that you changed the name from laddoo lemon to laddoo\n",
    "\n",
    "laddoo_df = df[df['cookie'] == 'laddoo']\n",
    "\n",
    "plt.boxplot(laddoo_df['radius'])\n",
    "\n",
    "plt.title('Boxplot of Laddoo Lemon Cookie Radius')\n",
    "plt.xlabel('Cookie Type')\n",
    "plt.ylabel('Radius (cm)')\n",
    "\n",
    "plt.show()"
   ]
  },
  {
   "attachments": {},
   "cell_type": "markdown",
   "metadata": {},
   "source": [
    "Alternatively, we can create a histogram to visualize the distribution of the `laddoo lemon`'s radius. We can also do this by using the `plot()` function."
   ]
  },
  {
   "cell_type": "code",
   "execution_count": 22,
   "metadata": {},
   "outputs": [
    {
     "data": {
      "image/png": "[encoded data removed]",
      "text/plain": [
       "<Figure size 432x288 with 1 Axes>"
      ]
     },
     "metadata": {
      "needs_background": "light"
     },
     "output_type": "display_data"
    }
   ],
   "source": [
    "#TODO: add the described histogram\n",
    "\n",
    "laddoo_lemon_df = df[df['cookie'] == 'laddoo']\n",
    "plt.hist(laddoo_lemon_df['radius'], bins=20, edgecolor='black')\n",
    "plt.title('Histogram of Laddoo Lemon Cookie Radius')\n",
    "plt.xlabel('Radius (cm)')\n",
    "plt.ylabel('Frequency')\n",
    "plt.show()"
   ]
  },
  {
   "attachments": {},
   "cell_type": "markdown",
   "metadata": {},
   "source": [
    "Things can get more complicated too. Maybe we want to analyze the behaviors of `bad berry bunny` and `laddoo lemon`'s radius using a boxplot. But this time, let's try it using the alternative `boxplot()` function. For practice, try doing it with `plot()` too!"
   ]
  },
  {
   "cell_type": "code",
   "execution_count": 23,
   "metadata": {},
   "outputs": [
    {
     "data": {
      "image/png": "[encoded data removed]",
      "text/plain": [
       "<Figure size 432x288 with 1 Axes>"
      ]
     },
     "metadata": {
      "needs_background": "light"
     },
     "output_type": "display_data"
    }
   ],
   "source": [
    "#TODO: analyze the two cookie's radius in a boxplot\n",
    "\n",
    "selected_cookies_df = df[df['cookie'].isin(['bbb', 'laddoo'])]\n",
    "selected_cookies_df.boxplot(column='radius', by='cookie', grid=False)\n",
    "plt.title('Boxplot of Bad Berry Bunny and Laddoo Lemon Cookie Radius')\n",
    "plt.suptitle('')\n",
    "plt.xlabel('Cookie Type')\n",
    "plt.ylabel('Radius (cm)')\n",
    "plt.show()"
   ]
  },
  {
   "attachments": {},
   "cell_type": "markdown",
   "metadata": {},
   "source": [
    "### Practice Problems\n",
    "Now that you have learned some of Pandas' capabilities, let's try some practice problems! **This is the part that will be checked when you submit it!**"
   ]
  },
  {
   "attachments": {},
   "cell_type": "markdown",
   "metadata": {},
   "source": [
    "#### Problem 1\n",
    "How many cookies were made? (Hint: use the `shape` attribute)"
   ]
  },
  {
   "cell_type": "code",
   "execution_count": 24,
   "metadata": {},
   "outputs": [
    {
     "name": "stdout",
     "output_type": "stream",
     "text": [
      "Number of cookies made: 118\n"
     ]
    }
   ],
   "source": [
    "#Add your code here\n",
    "num_cookies = df.shape[0]\n",
    "\n",
    "print(f\"Number of cookies made: {num_cookies}\")"
   ]
  },
  {
   "attachments": {},
   "cell_type": "markdown",
   "metadata": {},
   "source": [
    "#### Problem 2\n",
    "Add a column to the DataFrame that has the value `True` if the cookie has a radius greater than 4 cm, and `False` otherwise. (Hint: use the `apply()` function)"
   ]
  },
  {
   "cell_type": "code",
   "execution_count": 25,
   "metadata": {},
   "outputs": [
    {
     "name": "stdout",
     "output_type": "stream",
     "text": [
      "        cookie                                        ingredients  calories  \\\n",
      "103        red  [\"flour\",\"cocoa powder\",\"butter\",\"red food col...       198   \n",
      "24         red  [\"flour\",\"cocoa powder\",\"butter\",\"red food col...       204   \n",
      "102   nevadito  [\"flour\",\"chocolate chips\",\"milk\",\"vanilla ext...       211   \n",
      "53      orange   [\"flour\",\"orange juice\",\"sugar\",\"vegetable oil\"]       186   \n",
      "42      laddoo             [\"flour\",\"lemon juice\",\"sugar\",\"ghee\"]       195   \n",
      "94      laddoo             [\"flour\",\"lemon juice\",\"sugar\",\"ghee\"]       178   \n",
      "90         red  [\"flour\",\"cocoa powder\",\"butter\",\"red food col...       191   \n",
      "80   chocolate       [\"flour\",\"chocolate chips\",\"sugar\",\"butter\"]       199   \n",
      "73   chocolate       [\"flour\",\"chocolate chips\",\"sugar\",\"butter\"]       197   \n",
      "65         red  [\"flour\",\"cocoa powder\",\"butter\",\"red food col...       196   \n",
      "81      laddoo             [\"flour\",\"lemon juice\",\"sugar\",\"ghee\"]       167   \n",
      "40       minty          [\"flour\",\"mint extract\",\"sugar\",\"butter\"]       174   \n",
      "23    nevadito  [\"flour\",\"chocolate chips\",\"milk\",\"vanilla ext...       219   \n",
      "55   chocolate       [\"flour\",\"chocolate chips\",\"sugar\",\"butter\"]       206   \n",
      "69         red  [\"flour\",\"cocoa powder\",\"butter\",\"red food col...       206   \n",
      "93       minty          [\"flour\",\"mint extract\",\"sugar\",\"butter\"]       185   \n",
      "110        red  [\"flour\",\"cocoa powder\",\"butter\",\"red food col...       206   \n",
      "17         red  [\"flour\",\"cocoa powder\",\"butter\",\"red food col...       202   \n",
      "117        bbb           [\"flour\",\"blueberries\",\"sugar\",\"butter\"]       199   \n",
      "37         red  [\"flour\",\"cocoa powder\",\"butter\",\"red food col...       203   \n",
      "109   nevadito  [\"flour\",\"chocolate chips\",\"milk\",\"vanilla ext...       216   \n",
      "47       minty          [\"flour\",\"mint extract\",\"sugar\",\"butter\"]       205   \n",
      "48   chocolate       [\"flour\",\"chocolate chips\",\"sugar\",\"butter\"]       229   \n",
      "41   chocolate       [\"flour\",\"chocolate chips\",\"sugar\",\"butter\"]       240   \n",
      "87   chocolate       [\"flour\",\"chocolate chips\",\"sugar\",\"butter\"]       243   \n",
      "57    nevadito  [\"flour\",\"chocolate chips\",\"milk\",\"vanilla ext...       211   \n",
      "100  chocolate       [\"flour\",\"chocolate chips\",\"sugar\",\"butter\"]       222   \n",
      "31         bbb           [\"flour\",\"blueberries\",\"sugar\",\"butter\"]       182   \n",
      "29    nevadito  [\"flour\",\"chocolate chips\",\"milk\",\"vanilla ext...       211   \n",
      "3          bbb           [\"flour\",\"blueberries\",\"sugar\",\"butter\"]       191   \n",
      "67      orange   [\"flour\",\"orange juice\",\"sugar\",\"vegetable oil\"]       161   \n",
      "64    nevadito  [\"flour\",\"chocolate chips\",\"milk\",\"vanilla ext...       214   \n",
      "49      laddoo             [\"flour\",\"lemon juice\",\"sugar\",\"ghee\"]       165   \n",
      "51         red  [\"flour\",\"cocoa powder\",\"butter\",\"red food col...       203   \n",
      "35      laddoo             [\"flour\",\"lemon juice\",\"sugar\",\"ghee\"]       176   \n",
      "84         bbb           [\"flour\",\"blueberries\",\"sugar\",\"butter\"]       186   \n",
      "113  chocolate       [\"flour\",\"chocolate chips\",\"sugar\",\"butter\"]       227   \n",
      "108     laddoo             [\"flour\",\"lemon juice\",\"sugar\",\"ghee\"]       180   \n",
      "2     nevadito  [\"flour\",\"chocolate chips\",\"milk\",\"vanilla ext...       224   \n",
      "104        bbb           [\"flour\",\"blueberries\",\"sugar\",\"butter\"]       171   \n",
      "16    nevadito  [\"flour\",\"chocolate chips\",\"milk\",\"vanilla ext...       236   \n",
      "75    nevadito  [\"flour\",\"chocolate chips\",\"milk\",\"vanilla ext...       253   \n",
      "38         bbb           [\"flour\",\"blueberries\",\"sugar\",\"butter\"]       213   \n",
      "60      orange   [\"flour\",\"orange juice\",\"sugar\",\"vegetable oil\"]       158   \n",
      "77         bbb           [\"flour\",\"blueberries\",\"sugar\",\"butter\"]       185   \n",
      "54       minty          [\"flour\",\"mint extract\",\"sugar\",\"butter\"]       209   \n",
      "7       laddoo             [\"flour\",\"lemon juice\",\"sugar\",\"ghee\"]       178   \n",
      "91         bbb           [\"flour\",\"blueberries\",\"sugar\",\"butter\"]       208   \n",
      "45         bbb           [\"flour\",\"blueberries\",\"sugar\",\"butter\"]       184   \n",
      "5        minty          [\"flour\",\"mint extract\",\"sugar\",\"butter\"]       204   \n",
      "\n",
      "     radius  cost_to_make  radius_greater_than_4cm  \n",
      "103   4.930      1.550000                     True  \n",
      "24    4.667      1.900000                     True  \n",
      "102   4.619      1.676579                     True  \n",
      "53    4.573      1.560000                     True  \n",
      "42    4.562      1.120000                     True  \n",
      "94    4.519      1.910000                     True  \n",
      "90    4.475      1.740000                     True  \n",
      "80    4.474      1.640000                     True  \n",
      "73    4.461      2.170000                     True  \n",
      "65    4.425      1.370000                     True  \n",
      "81    4.401      1.740000                     True  \n",
      "40    4.388      1.140000                     True  \n",
      "23    4.346      1.680000                     True  \n",
      "55    4.328      1.840000                     True  \n",
      "69    4.319      1.740000                     True  \n",
      "93    4.307      1.676579                     True  \n",
      "110   4.297      1.230000                     True  \n",
      "17    4.289      1.730000                     True  \n",
      "117   4.281      1.860000                     True  \n",
      "37    4.272      2.440000                     True  \n",
      "109   4.227      1.676579                     True  \n",
      "47    4.218      1.250000                     True  \n",
      "48    4.217      1.690000                     True  \n",
      "41    4.212      1.470000                     True  \n",
      "87    4.207      1.640000                     True  \n",
      "57    4.205      1.690000                     True  \n",
      "100   4.186      1.360000                     True  \n",
      "31    4.166      1.610000                     True  \n",
      "29    4.152      2.220000                     True  \n",
      "3     4.148      1.890000                     True  \n",
      "67    4.147      2.130000                     True  \n",
      "64    4.141      1.870000                     True  \n",
      "49    4.123      2.500000                     True  \n",
      "51    4.112      1.410000                     True  \n",
      "35    4.110      2.770000                     True  \n",
      "84    4.089      1.230000                     True  \n",
      "113   4.085      1.920000                     True  \n",
      "108   4.077      1.330000                     True  \n",
      "2     4.069      1.540000                     True  \n",
      "104   4.045      1.430000                     True  \n",
      "16    4.043      1.790000                     True  \n",
      "75    4.043      1.620000                     True  \n",
      "38    4.007      1.840000                     True  \n",
      "60    4.003      1.500000                     True  \n",
      "77    3.992      1.590000                    False  \n",
      "54    3.992      1.470000                    False  \n",
      "7     3.989      1.676579                    False  \n",
      "91    3.976      2.120000                    False  \n",
      "45    3.974      1.270000                    False  \n",
      "5     3.964      1.340000                    False  \n"
     ]
    }
   ],
   "source": [
    "#Add your code here\n",
    "\n",
    "def check_radius(radius):\n",
    "    return radius > 4\n",
    "\n",
    "\n",
    "df['radius_greater_than_4cm'] = df['radius'].apply(check_radius)\n",
    "\n",
    "print(df.head(50))"
   ]
  },
  {
   "attachments": {},
   "cell_type": "markdown",
   "metadata": {},
   "source": [
    "#### Problem 3\n",
    "\n",
    "Group the data by the `cookie` column, and find the average radius of each cookie. (Hint: use the `groupby()` and `transform()` function). Add this column to the DataFrame."
   ]
  },
  {
   "cell_type": "code",
   "execution_count": 26,
   "metadata": {},
   "outputs": [
    {
     "name": "stdout",
     "output_type": "stream",
     "text": [
      "        cookie                                        ingredients  calories  \\\n",
      "103        red  [\"flour\",\"cocoa powder\",\"butter\",\"red food col...       198   \n",
      "24         red  [\"flour\",\"cocoa powder\",\"butter\",\"red food col...       204   \n",
      "102   nevadito  [\"flour\",\"chocolate chips\",\"milk\",\"vanilla ext...       211   \n",
      "53      orange   [\"flour\",\"orange juice\",\"sugar\",\"vegetable oil\"]       186   \n",
      "42      laddoo             [\"flour\",\"lemon juice\",\"sugar\",\"ghee\"]       195   \n",
      "94      laddoo             [\"flour\",\"lemon juice\",\"sugar\",\"ghee\"]       178   \n",
      "90         red  [\"flour\",\"cocoa powder\",\"butter\",\"red food col...       191   \n",
      "80   chocolate       [\"flour\",\"chocolate chips\",\"sugar\",\"butter\"]       199   \n",
      "73   chocolate       [\"flour\",\"chocolate chips\",\"sugar\",\"butter\"]       197   \n",
      "65         red  [\"flour\",\"cocoa powder\",\"butter\",\"red food col...       196   \n",
      "\n",
      "     radius  cost_to_make  radius_greater_than_4cm  average_radius  \n",
      "103   4.930      1.550000                     True        4.077444  \n",
      "24    4.667      1.900000                     True        4.077444  \n",
      "102   4.619      1.676579                     True        4.013588  \n",
      "53    4.573      1.560000                     True        3.519353  \n",
      "42    4.562      1.120000                     True        3.782118  \n",
      "94    4.519      1.910000                     True        3.782118  \n",
      "90    4.475      1.740000                     True        4.077444  \n",
      "80    4.474      1.640000                     True        3.983667  \n",
      "73    4.461      2.170000                     True        3.983667  \n",
      "65    4.425      1.370000                     True        4.077444  \n"
     ]
    }
   ],
   "source": [
    "#Add your code here\n",
    "\n",
    "df['average_radius'] = df.groupby('cookie')['radius'].transform('mean')\n",
    "\n",
    "print(df.head(10))"
   ]
  },
  {
   "attachments": {},
   "cell_type": "markdown",
   "metadata": {},
   "source": [
    "#### Problem 4\n",
    "Create a new DataFrame that only contains the cookies that have the ingredient `\"chocolate chips\"`. (Hint: use the `str.contains()` function)"
   ]
  },
  {
   "cell_type": "code",
   "execution_count": 27,
   "metadata": {},
   "outputs": [
    {
     "name": "stdout",
     "output_type": "stream",
     "text": [
      "        cookie                                        ingredients  calories  \\\n",
      "102   nevadito  [\"flour\",\"chocolate chips\",\"milk\",\"vanilla ext...       211   \n",
      "80   chocolate       [\"flour\",\"chocolate chips\",\"sugar\",\"butter\"]       199   \n",
      "73   chocolate       [\"flour\",\"chocolate chips\",\"sugar\",\"butter\"]       197   \n",
      "23    nevadito  [\"flour\",\"chocolate chips\",\"milk\",\"vanilla ext...       219   \n",
      "55   chocolate       [\"flour\",\"chocolate chips\",\"sugar\",\"butter\"]       206   \n",
      "109   nevadito  [\"flour\",\"chocolate chips\",\"milk\",\"vanilla ext...       216   \n",
      "48   chocolate       [\"flour\",\"chocolate chips\",\"sugar\",\"butter\"]       229   \n",
      "41   chocolate       [\"flour\",\"chocolate chips\",\"sugar\",\"butter\"]       240   \n",
      "87   chocolate       [\"flour\",\"chocolate chips\",\"sugar\",\"butter\"]       243   \n",
      "57    nevadito  [\"flour\",\"chocolate chips\",\"milk\",\"vanilla ext...       211   \n",
      "\n",
      "     radius  cost_to_make  radius_greater_than_4cm  average_radius  \n",
      "102   4.619      1.676579                     True        4.013588  \n",
      "80    4.474      1.640000                     True        3.983667  \n",
      "73    4.461      2.170000                     True        3.983667  \n",
      "23    4.346      1.680000                     True        4.013588  \n",
      "55    4.328      1.840000                     True        3.983667  \n",
      "109   4.227      1.676579                     True        4.013588  \n",
      "48    4.217      1.690000                     True        3.983667  \n",
      "41    4.212      1.470000                     True        3.983667  \n",
      "87    4.207      1.640000                     True        3.983667  \n",
      "57    4.205      1.690000                     True        4.013588  \n"
     ]
    }
   ],
   "source": [
    "#Add your code here\n",
    "\n",
    "chocolate_chip_cookies = df[df['ingredients'].str.contains(\"chocolate chips\")]\n",
    "\n",
    "print(chocolate_chip_cookies.head(10))"
   ]
  },
  {
   "attachments": {},
   "cell_type": "markdown",
   "metadata": {},
   "source": [
    "#### Problem 5\n",
    "\n",
    "Create a boxplot of `cost_to_make` for all cookies except `chocolate` using the `boxplot()` function."
   ]
  },
  {
   "cell_type": "code",
   "execution_count": 28,
   "metadata": {},
   "outputs": [
    {
     "data": {
      "image/png": "[encoded data removed]",
      "text/plain": [
       "<Figure size 720x432 with 1 Axes>"
      ]
     },
     "metadata": {
      "needs_background": "light"
     },
     "output_type": "display_data"
    }
   ],
   "source": [
    "#Add your code here\n",
    "\n",
    "non_chocolate_cookies = df[df['cookie'] != 'chocolate']\n",
    "\n",
    "plt.figure(figsize=(10, 6))  \n",
    "plt.boxplot(non_chocolate_cookies['cost_to_make'], vert=False)  \n",
    "plt.title('Cost to Make for Non-Chocolate Cookies')  \n",
    "plt.xlabel('Cost to Make (USD)')\n",
    "plt.show() "
   ]
  },
  {
   "attachments": {},
   "cell_type": "markdown",
   "metadata": {},
   "source": [
    "#### Problem 6\n",
    "\n",
    "Create a histogram of the `bad berry bunny`'s calories using the `plot()` function."
   ]
  },
  {
   "cell_type": "code",
   "execution_count": 29,
   "metadata": {},
   "outputs": [
    {
     "data": {
      "image/png": "[encoded data removed]",
      "text/plain": [
       "<Figure size 720x432 with 1 Axes>"
      ]
     },
     "metadata": {
      "needs_background": "light"
     },
     "output_type": "display_data"
    }
   ],
   "source": [
    "#Add your code here\n",
    "\n",
    "bad_berry_bunny_calories = df[df['cookie'] == 'bbb']['calories']\n",
    "plt.figure(figsize=(10, 6))  \n",
    "plt.hist(bad_berry_bunny_calories, bins=10, edgecolor='k')  \n",
    "plt.title('Calories Distribution for Bad Berry Bunny Cookie')  \n",
    "plt.xlabel('Calories')  \n",
    "plt.ylabel('Frequency') \n",
    "plt.grid(axis='y', linestyle='--', alpha=0.7)  \n",
    "plt.show()"
   ]
  },
  {
   "cell_type": "markdown",
   "metadata": {},
   "source": [
    "#### Problem 7\n",
    "\n",
    "Calculate the average calories per cookie type and display the result in a bar chart."
   ]
  },
  {
   "cell_type": "code",
   "execution_count": 30,
   "metadata": {},
   "outputs": [
    {
     "data": {
      "image/png": "[encoded data removed]",
      "text/plain": [
       "<Figure size 864x432 with 1 Axes>"
      ]
     },
     "metadata": {
      "needs_background": "light"
     },
     "output_type": "display_data"
    }
   ],
   "source": [
    "#Add your code here\n",
    "\n",
    "average_calories_per_cookie = df.groupby('cookie')['calories'].mean()\n",
    "plt.figure(figsize=(12, 6))  \n",
    "average_calories_per_cookie.plot(kind='bar', color='skyblue', edgecolor='k')  \n",
    "plt.title('Average Calories per Cookie Type')  \n",
    "plt.xlabel('Cookie Type')  \n",
    "plt.ylabel('Average Calories')  \n",
    "plt.xticks(rotation=45, ha='right')  \n",
    "plt.grid(axis='y', linestyle='--', alpha=0.7)  \n",
    "plt.show()"
   ]
  },
  {
   "cell_type": "markdown",
   "metadata": {},
   "source": [
    "#### Problem 8\n",
    "\n",
    "Find the top 3 most expensive cookies in terms of cost_to_make"
   ]
  },
  {
   "cell_type": "code",
   "execution_count": 31,
   "metadata": {},
   "outputs": [
    {
     "name": "stdout",
     "output_type": "stream",
     "text": [
      "      cookie                                        ingredients  calories  \\\n",
      "35    laddoo             [\"flour\",\"lemon juice\",\"sugar\",\"ghee\"]       176   \n",
      "43  nevadito  [\"flour\",\"chocolate chips\",\"milk\",\"vanilla ext...       220   \n",
      "12    orange   [\"flour\",\"orange juice\",\"sugar\",\"vegetable oil\"]       159   \n",
      "\n",
      "    radius  cost_to_make  radius_greater_than_4cm  average_radius  \n",
      "35   4.110          2.77                     True        3.782118  \n",
      "43   3.855          2.71                    False        4.013588  \n",
      "12   3.429          2.59                    False        3.519353  \n"
     ]
    }
   ],
   "source": [
    "#Add your code here\n",
    "\n",
    "top_3_expensive_cookies = df.sort_values(by='cost_to_make', ascending=False).head(3)\n",
    "print(top_3_expensive_cookies)"
   ]
  }
 ],
 "metadata": {
  "kernelspec": {
   "display_name": "Python 3",
   "language": "python",
   "name": "python3"
  },
  "language_info": {
   "codemirror_mode": {
    "name": "ipython",
    "version": 3
   },
   "file_extension": ".py",
   "mimetype": "text/x-python",
   "name": "python",
   "nbconvert_exporter": "python",
   "pygments_lexer": "ipython3",
   "version": "3.9.7"
  },
  "orig_nbformat": 4,
  "vscode": {
   "interpreter": {
    "hash": "63639127d0784e8e4de1a76bcacd89583be09d9f82d600966cd9457d183cbbf7"
   }
  }
 },
 "nbformat": 4,
 "nbformat_minor": 2
}
